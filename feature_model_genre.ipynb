{
  "nbformat": 4,
  "nbformat_minor": 0,
  "metadata": {
    "colab": {
      "name": "feature_model_genre.ipynb",
      "provenance": [],
      "collapsed_sections": []
    },
    "kernelspec": {
      "name": "python3",
      "display_name": "Python 3"
    }
  },
  "cells": [
    {
      "cell_type": "code",
      "metadata": {
        "id": "nt9nViG7nd1P",
        "colab_type": "code",
        "colab": {}
      },
      "source": [
        "import tensorflow as tf\n",
        "from keras.models import Sequential\n",
        "from keras.layers import Dense, Dropout, Activation, LSTM, Embedding, SpatialDropout1D\n",
        "from tensorflow.keras.layers import Attention\n",
        "from tensorflow.keras.callbacks import EarlyStopping\n",
        "from tensorflow.keras.preprocessing.text import Tokenizer\n",
        "from tensorflow.keras.preprocessing.sequence import pad_sequences\n",
        "from tensorflow.keras.optimizers import SGD\n",
        "from keras.callbacks import ModelCheckpoint\n",
        "from keras.utils import np_utils\n",
        "from IPython.display import HTML as html_print\n",
        "from IPython.display import display\n",
        "import keras.backend as K\n",
        "import matplotlib.pyplot as plt\n",
        "from sklearn.metrics import multilabel_confusion_matrix, f1_score, precision_score, recall_score, plot_confusion_matrix\n",
        "from google.colab import files\n",
        "from pandas import DataFrame as df\n",
        "import re\n",
        "import os\n",
        "import time\n",
        "import numpy as np\n",
        "import time\n",
        "import string\n",
        "import math\n",
        "import matplotlib\n",
        "import pickle"
      ],
      "execution_count": 0,
      "outputs": []
    },
    {
      "cell_type": "code",
      "metadata": {
        "id": "IUivr6zZnm21",
        "colab_type": "code",
        "outputId": "7bc157e1-228e-4115-ea77-4e874ba17cfe",
        "colab": {
          "base_uri": "https://localhost:8080/",
          "height": 122
        }
      },
      "source": [
        "from google.colab import drive\n",
        "drive.mount('/content/gdrive')"
      ],
      "execution_count": 3,
      "outputs": [
        {
          "output_type": "stream",
          "text": [
            "Go to this URL in a browser: https://accounts.google.com/o/oauth2/auth?client_id=947318989803-6bn6qk8qdgf4n4g3pfee6491hc0brc4i.apps.googleusercontent.com&redirect_uri=urn%3aietf%3awg%3aoauth%3a2.0%3aoob&response_type=code&scope=email%20https%3a%2f%2fwww.googleapis.com%2fauth%2fdocs.test%20https%3a%2f%2fwww.googleapis.com%2fauth%2fdrive%20https%3a%2f%2fwww.googleapis.com%2fauth%2fdrive.photos.readonly%20https%3a%2f%2fwww.googleapis.com%2fauth%2fpeopleapi.readonly\n",
            "\n",
            "Enter your authorization code:\n",
            "··········\n",
            "Mounted at /content/gdrive\n"
          ],
          "name": "stdout"
        }
      ]
    },
    {
      "cell_type": "code",
      "metadata": {
        "id": "hSCkfFCpno8r",
        "colab_type": "code",
        "colab": {}
      },
      "source": [
        "def create_model(input_dim, output_dim, lr, lr_decay, mom):\n",
        "    model = Sequential()\n",
        "    model.add(Dense(500, activation = 'relu', input_dim = input_dim))\n",
        "    model.add(Dropout(0.1))\n",
        "    model.add(Dense(300, activation = 'relu'))\n",
        "    model.add(Dropout(0.1))\n",
        "    model.add(Dense(250, activation = 'relu'))\n",
        "    model.add(Dropout(0.1))\n",
        "    model.add(Dense(output_dim, activation = 'sigmoid'))\n",
        "\n",
        "    sgd = SGD(lr = lr, decay = lr_decay, momentum = mom)\n",
        "    model.compile(loss = 'binary_crossentropy', optimizer = 'adam', metrics=['accuracy'])\n",
        "\n",
        "    return model"
      ],
      "execution_count": 0,
      "outputs": []
    },
    {
      "cell_type": "code",
      "metadata": {
        "id": "QJH7NBeinvOF",
        "colab_type": "code",
        "outputId": "901aa88d-57c8-485f-eab0-5b31b7eaf768",
        "colab": {
          "resources": {
            "http://localhost:8080/nbextensions/google.colab/files.js": {
              "data": "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",
              "ok": true,
              "headers": [
                [
                  "content-type",
                  "application/javascript"
                ]
              ],
              "status": 200,
              "status_text": ""
            }
          },
          "base_uri": "https://localhost:8080/",
          "height": 131
        }
      },
      "source": [
        "from google.colab import files\n",
        "train_features = files.upload()\n",
        "train_labels = files.upload()"
      ],
      "execution_count": 24,
      "outputs": [
        {
          "output_type": "display_data",
          "data": {
            "text/html": [
              "\n",
              "     <input type=\"file\" id=\"files-99b6f9f4-eb77-4bea-927b-83445896ac1a\" name=\"files[]\" multiple disabled />\n",
              "     <output id=\"result-99b6f9f4-eb77-4bea-927b-83445896ac1a\">\n",
              "      Upload widget is only available when the cell has been executed in the\n",
              "      current browser session. Please rerun this cell to enable.\n",
              "      </output>\n",
              "      <script src=\"/nbextensions/google.colab/files.js\"></script> "
            ],
            "text/plain": [
              "<IPython.core.display.HTML object>"
            ]
          },
          "metadata": {
            "tags": []
          }
        },
        {
          "output_type": "stream",
          "text": [
            "Saving train_features_continuous.npy to train_features_continuous (1).npy\n"
          ],
          "name": "stdout"
        },
        {
          "output_type": "display_data",
          "data": {
            "text/html": [
              "\n",
              "     <input type=\"file\" id=\"files-5fa78f82-f374-4265-a9d3-53ee926a1b71\" name=\"files[]\" multiple disabled />\n",
              "     <output id=\"result-5fa78f82-f374-4265-a9d3-53ee926a1b71\">\n",
              "      Upload widget is only available when the cell has been executed in the\n",
              "      current browser session. Please rerun this cell to enable.\n",
              "      </output>\n",
              "      <script src=\"/nbextensions/google.colab/files.js\"></script> "
            ],
            "text/plain": [
              "<IPython.core.display.HTML object>"
            ]
          },
          "metadata": {
            "tags": []
          }
        },
        {
          "output_type": "stream",
          "text": [
            "Saving train_labels_continuous.npy to train_labels_continuous (2).npy\n"
          ],
          "name": "stdout"
        }
      ]
    },
    {
      "cell_type": "code",
      "metadata": {
        "id": "-ojmnUBlnx4t",
        "colab_type": "code",
        "colab": {}
      },
      "source": [
        "X = np.load(\"train_features_continuous.npy\")\n",
        "X = np.delete(X, 0, axis = 1)\n",
        "y = np.load(\"train_labels_continuous.npy\")"
      ],
      "execution_count": 0,
      "outputs": []
    },
    {
      "cell_type": "code",
      "metadata": {
        "id": "GfUq4FzNnz3I",
        "colab_type": "code",
        "outputId": "39de28de-40a5-4206-db57-5f1b377c7be4",
        "colab": {
          "base_uri": "https://localhost:8080/",
          "height": 51
        }
      },
      "source": [
        "print(X.shape)\n",
        "print(y.shape)"
      ],
      "execution_count": 18,
      "outputs": [
        {
          "output_type": "stream",
          "text": [
            "(432, 7)\n",
            "(432, 24)\n"
          ],
          "name": "stdout"
        }
      ]
    },
    {
      "cell_type": "code",
      "metadata": {
        "id": "bt2ZkglXn4r8",
        "colab_type": "code",
        "colab": {}
      },
      "source": [
        "lr = 0.0001\n",
        "lr_decay = 1e-6\n",
        "mom = 0.9\n",
        "num_epochs = 600\n",
        "batch_size = 36"
      ],
      "execution_count": 0,
      "outputs": []
    },
    {
      "cell_type": "code",
      "metadata": {
        "id": "ExrisDdQn6Wc",
        "colab_type": "code",
        "outputId": "b74968e4-2b0b-44b9-84ce-8c7366bef3a5",
        "colab": {
          "base_uri": "https://localhost:8080/",
          "height": 1000
        }
      },
      "source": [
        "feature_model = create_model(X.shape[1], y.shape[1], lr, lr_decay, mom)\n",
        "feature_history = feature_model.fit(X, y, epochs = num_epochs, batch_size = batch_size)"
      ],
      "execution_count": 28,
      "outputs": [
        {
          "output_type": "stream",
          "text": [
            "Epoch 1/600\n",
            "432/432 [==============================] - 0s 759us/step - loss: 0.4237 - accuracy: 0.8385\n",
            "Epoch 2/600\n",
            "432/432 [==============================] - 0s 178us/step - loss: 0.3104 - accuracy: 0.8727\n",
            "Epoch 3/600\n",
            "432/432 [==============================] - 0s 184us/step - loss: 0.3035 - accuracy: 0.8735\n",
            "Epoch 4/600\n",
            "432/432 [==============================] - 0s 179us/step - loss: 0.2979 - accuracy: 0.8753\n",
            "Epoch 5/600\n",
            "432/432 [==============================] - 0s 178us/step - loss: 0.2960 - accuracy: 0.8767\n",
            "Epoch 6/600\n",
            "432/432 [==============================] - 0s 220us/step - loss: 0.2909 - accuracy: 0.8781\n",
            "Epoch 7/600\n",
            "432/432 [==============================] - 0s 256us/step - loss: 0.2878 - accuracy: 0.8806\n",
            "Epoch 8/600\n",
            "432/432 [==============================] - 0s 179us/step - loss: 0.2861 - accuracy: 0.8806\n",
            "Epoch 9/600\n",
            "432/432 [==============================] - 0s 182us/step - loss: 0.2879 - accuracy: 0.8804\n",
            "Epoch 10/600\n",
            "432/432 [==============================] - 0s 196us/step - loss: 0.2827 - accuracy: 0.8815\n",
            "Epoch 11/600\n",
            "432/432 [==============================] - 0s 189us/step - loss: 0.2834 - accuracy: 0.8804\n",
            "Epoch 12/600\n",
            "432/432 [==============================] - 0s 178us/step - loss: 0.2811 - accuracy: 0.8822\n",
            "Epoch 13/600\n",
            "432/432 [==============================] - 0s 185us/step - loss: 0.2813 - accuracy: 0.8793\n",
            "Epoch 14/600\n",
            "432/432 [==============================] - 0s 194us/step - loss: 0.2783 - accuracy: 0.8830\n",
            "Epoch 15/600\n",
            "432/432 [==============================] - 0s 177us/step - loss: 0.2773 - accuracy: 0.8845\n",
            "Epoch 16/600\n",
            "432/432 [==============================] - 0s 183us/step - loss: 0.2764 - accuracy: 0.8826\n",
            "Epoch 17/600\n",
            "432/432 [==============================] - 0s 191us/step - loss: 0.2782 - accuracy: 0.8836\n",
            "Epoch 18/600\n",
            "432/432 [==============================] - 0s 206us/step - loss: 0.2733 - accuracy: 0.8830\n",
            "Epoch 19/600\n",
            "432/432 [==============================] - 0s 174us/step - loss: 0.2746 - accuracy: 0.8840\n",
            "Epoch 20/600\n",
            "432/432 [==============================] - 0s 177us/step - loss: 0.2744 - accuracy: 0.8818\n",
            "Epoch 21/600\n",
            "432/432 [==============================] - 0s 175us/step - loss: 0.2739 - accuracy: 0.8820\n",
            "Epoch 22/600\n",
            "432/432 [==============================] - 0s 178us/step - loss: 0.2722 - accuracy: 0.8827\n",
            "Epoch 23/600\n",
            "432/432 [==============================] - 0s 177us/step - loss: 0.2706 - accuracy: 0.8841\n",
            "Epoch 24/600\n",
            "432/432 [==============================] - 0s 186us/step - loss: 0.2714 - accuracy: 0.8822\n",
            "Epoch 25/600\n",
            "432/432 [==============================] - 0s 182us/step - loss: 0.2710 - accuracy: 0.8835\n",
            "Epoch 26/600\n",
            "432/432 [==============================] - 0s 178us/step - loss: 0.2677 - accuracy: 0.8852\n",
            "Epoch 27/600\n",
            "432/432 [==============================] - 0s 175us/step - loss: 0.2717 - accuracy: 0.8810\n",
            "Epoch 28/600\n",
            "432/432 [==============================] - 0s 182us/step - loss: 0.2676 - accuracy: 0.8854\n",
            "Epoch 29/600\n",
            "432/432 [==============================] - 0s 182us/step - loss: 0.2683 - accuracy: 0.8870\n",
            "Epoch 30/600\n",
            "432/432 [==============================] - 0s 208us/step - loss: 0.2649 - accuracy: 0.8861\n",
            "Epoch 31/600\n",
            "432/432 [==============================] - 0s 193us/step - loss: 0.2630 - accuracy: 0.8871\n",
            "Epoch 32/600\n",
            "432/432 [==============================] - 0s 180us/step - loss: 0.2625 - accuracy: 0.8872\n",
            "Epoch 33/600\n",
            "432/432 [==============================] - 0s 178us/step - loss: 0.2615 - accuracy: 0.8880\n",
            "Epoch 34/600\n",
            "432/432 [==============================] - 0s 176us/step - loss: 0.2620 - accuracy: 0.8871\n",
            "Epoch 35/600\n",
            "432/432 [==============================] - 0s 182us/step - loss: 0.2619 - accuracy: 0.8878\n",
            "Epoch 36/600\n",
            "432/432 [==============================] - 0s 183us/step - loss: 0.2606 - accuracy: 0.8883\n",
            "Epoch 37/600\n",
            "432/432 [==============================] - 0s 175us/step - loss: 0.2606 - accuracy: 0.8864\n",
            "Epoch 38/600\n",
            "432/432 [==============================] - 0s 179us/step - loss: 0.2578 - accuracy: 0.8889\n",
            "Epoch 39/600\n",
            "432/432 [==============================] - 0s 200us/step - loss: 0.2570 - accuracy: 0.8899\n",
            "Epoch 40/600\n",
            "432/432 [==============================] - 0s 185us/step - loss: 0.2570 - accuracy: 0.8892\n",
            "Epoch 41/600\n",
            "432/432 [==============================] - 0s 179us/step - loss: 0.2568 - accuracy: 0.8881\n",
            "Epoch 42/600\n",
            "432/432 [==============================] - 0s 201us/step - loss: 0.2555 - accuracy: 0.8891\n",
            "Epoch 43/600\n",
            "432/432 [==============================] - 0s 203us/step - loss: 0.2536 - accuracy: 0.8893\n",
            "Epoch 44/600\n",
            "432/432 [==============================] - 0s 181us/step - loss: 0.2556 - accuracy: 0.8893\n",
            "Epoch 45/600\n",
            "432/432 [==============================] - 0s 196us/step - loss: 0.2551 - accuracy: 0.8878\n",
            "Epoch 46/600\n",
            "432/432 [==============================] - 0s 180us/step - loss: 0.2516 - accuracy: 0.8908\n",
            "Epoch 47/600\n",
            "432/432 [==============================] - 0s 182us/step - loss: 0.2507 - accuracy: 0.8900\n",
            "Epoch 48/600\n",
            "432/432 [==============================] - 0s 172us/step - loss: 0.2506 - accuracy: 0.8905\n",
            "Epoch 49/600\n",
            "432/432 [==============================] - 0s 174us/step - loss: 0.2508 - accuracy: 0.8921\n",
            "Epoch 50/600\n",
            "432/432 [==============================] - 0s 168us/step - loss: 0.2489 - accuracy: 0.8927\n",
            "Epoch 51/600\n",
            "432/432 [==============================] - 0s 175us/step - loss: 0.2488 - accuracy: 0.8914\n",
            "Epoch 52/600\n",
            "432/432 [==============================] - 0s 186us/step - loss: 0.2464 - accuracy: 0.8935\n",
            "Epoch 53/600\n",
            "432/432 [==============================] - 0s 172us/step - loss: 0.2481 - accuracy: 0.8905\n",
            "Epoch 54/600\n",
            "432/432 [==============================] - 0s 192us/step - loss: 0.2479 - accuracy: 0.8924\n",
            "Epoch 55/600\n",
            "432/432 [==============================] - 0s 196us/step - loss: 0.2440 - accuracy: 0.8932\n",
            "Epoch 56/600\n",
            "432/432 [==============================] - 0s 175us/step - loss: 0.2443 - accuracy: 0.8920\n",
            "Epoch 57/600\n",
            "432/432 [==============================] - 0s 173us/step - loss: 0.2411 - accuracy: 0.8936\n",
            "Epoch 58/600\n",
            "432/432 [==============================] - 0s 186us/step - loss: 0.2434 - accuracy: 0.8929\n",
            "Epoch 59/600\n",
            "432/432 [==============================] - 0s 224us/step - loss: 0.2405 - accuracy: 0.8943\n",
            "Epoch 60/600\n",
            "432/432 [==============================] - 0s 207us/step - loss: 0.2393 - accuracy: 0.8950\n",
            "Epoch 61/600\n",
            "432/432 [==============================] - 0s 175us/step - loss: 0.2402 - accuracy: 0.8940\n",
            "Epoch 62/600\n",
            "432/432 [==============================] - 0s 182us/step - loss: 0.2389 - accuracy: 0.8935\n",
            "Epoch 63/600\n",
            "432/432 [==============================] - 0s 178us/step - loss: 0.2372 - accuracy: 0.8945\n",
            "Epoch 64/600\n",
            "432/432 [==============================] - 0s 182us/step - loss: 0.2371 - accuracy: 0.8944\n",
            "Epoch 65/600\n",
            "432/432 [==============================] - 0s 173us/step - loss: 0.2356 - accuracy: 0.8946\n",
            "Epoch 66/600\n",
            "432/432 [==============================] - 0s 174us/step - loss: 0.2340 - accuracy: 0.8981\n",
            "Epoch 67/600\n",
            "432/432 [==============================] - 0s 171us/step - loss: 0.2329 - accuracy: 0.8977\n",
            "Epoch 68/600\n",
            "432/432 [==============================] - 0s 199us/step - loss: 0.2324 - accuracy: 0.8968\n",
            "Epoch 69/600\n",
            "432/432 [==============================] - 0s 188us/step - loss: 0.2307 - accuracy: 0.8981\n",
            "Epoch 70/600\n",
            "432/432 [==============================] - 0s 173us/step - loss: 0.2298 - accuracy: 0.8984\n",
            "Epoch 71/600\n",
            "432/432 [==============================] - 0s 175us/step - loss: 0.2294 - accuracy: 0.8993\n",
            "Epoch 72/600\n",
            "432/432 [==============================] - 0s 181us/step - loss: 0.2284 - accuracy: 0.8987\n",
            "Epoch 73/600\n",
            "432/432 [==============================] - 0s 180us/step - loss: 0.2258 - accuracy: 0.8998\n",
            "Epoch 74/600\n",
            "432/432 [==============================] - 0s 181us/step - loss: 0.2266 - accuracy: 0.8984\n",
            "Epoch 75/600\n",
            "432/432 [==============================] - 0s 185us/step - loss: 0.2236 - accuracy: 0.8993\n",
            "Epoch 76/600\n",
            "432/432 [==============================] - 0s 180us/step - loss: 0.2262 - accuracy: 0.8982\n",
            "Epoch 77/600\n",
            "432/432 [==============================] - 0s 189us/step - loss: 0.2262 - accuracy: 0.9003\n",
            "Epoch 78/600\n",
            "432/432 [==============================] - 0s 178us/step - loss: 0.2252 - accuracy: 0.9000\n",
            "Epoch 79/600\n",
            "432/432 [==============================] - 0s 176us/step - loss: 0.2260 - accuracy: 0.8988\n",
            "Epoch 80/600\n",
            "432/432 [==============================] - 0s 179us/step - loss: 0.2243 - accuracy: 0.8993\n",
            "Epoch 81/600\n",
            "432/432 [==============================] - 0s 192us/step - loss: 0.2215 - accuracy: 0.9005\n",
            "Epoch 82/600\n",
            "432/432 [==============================] - 0s 185us/step - loss: 0.2233 - accuracy: 0.8992\n",
            "Epoch 83/600\n",
            "432/432 [==============================] - 0s 178us/step - loss: 0.2221 - accuracy: 0.9008\n",
            "Epoch 84/600\n",
            "432/432 [==============================] - 0s 193us/step - loss: 0.2207 - accuracy: 0.9004\n",
            "Epoch 85/600\n",
            "432/432 [==============================] - 0s 189us/step - loss: 0.2185 - accuracy: 0.9012\n",
            "Epoch 86/600\n",
            "432/432 [==============================] - 0s 182us/step - loss: 0.2210 - accuracy: 0.9026\n",
            "Epoch 87/600\n",
            "432/432 [==============================] - 0s 174us/step - loss: 0.2210 - accuracy: 0.9004\n",
            "Epoch 88/600\n",
            "432/432 [==============================] - 0s 180us/step - loss: 0.2167 - accuracy: 0.9026\n",
            "Epoch 89/600\n",
            "432/432 [==============================] - 0s 182us/step - loss: 0.2206 - accuracy: 0.9005\n",
            "Epoch 90/600\n",
            "432/432 [==============================] - 0s 200us/step - loss: 0.2187 - accuracy: 0.9026\n",
            "Epoch 91/600\n",
            "432/432 [==============================] - 0s 186us/step - loss: 0.2155 - accuracy: 0.9044\n",
            "Epoch 92/600\n",
            "432/432 [==============================] - 0s 180us/step - loss: 0.2147 - accuracy: 0.9062\n",
            "Epoch 93/600\n",
            "432/432 [==============================] - 0s 208us/step - loss: 0.2133 - accuracy: 0.9044\n",
            "Epoch 94/600\n",
            "432/432 [==============================] - 0s 186us/step - loss: 0.2122 - accuracy: 0.9066\n",
            "Epoch 95/600\n",
            "432/432 [==============================] - 0s 184us/step - loss: 0.2132 - accuracy: 0.9051\n",
            "Epoch 96/600\n",
            "432/432 [==============================] - 0s 183us/step - loss: 0.2125 - accuracy: 0.9055\n",
            "Epoch 97/600\n",
            "432/432 [==============================] - 0s 192us/step - loss: 0.2110 - accuracy: 0.9058\n",
            "Epoch 98/600\n",
            "432/432 [==============================] - 0s 176us/step - loss: 0.2124 - accuracy: 0.9043\n",
            "Epoch 99/600\n",
            "432/432 [==============================] - 0s 183us/step - loss: 0.2110 - accuracy: 0.9066\n",
            "Epoch 100/600\n",
            "432/432 [==============================] - 0s 191us/step - loss: 0.2097 - accuracy: 0.9056\n",
            "Epoch 101/600\n",
            "432/432 [==============================] - 0s 190us/step - loss: 0.2101 - accuracy: 0.9076\n",
            "Epoch 102/600\n",
            "432/432 [==============================] - 0s 182us/step - loss: 0.2087 - accuracy: 0.9055\n",
            "Epoch 103/600\n",
            "432/432 [==============================] - 0s 209us/step - loss: 0.2069 - accuracy: 0.9079\n",
            "Epoch 104/600\n",
            "432/432 [==============================] - 0s 189us/step - loss: 0.2102 - accuracy: 0.9052\n",
            "Epoch 105/600\n",
            "432/432 [==============================] - 0s 213us/step - loss: 0.2075 - accuracy: 0.9062\n",
            "Epoch 106/600\n",
            "432/432 [==============================] - 0s 182us/step - loss: 0.2088 - accuracy: 0.9052\n",
            "Epoch 107/600\n",
            "432/432 [==============================] - 0s 191us/step - loss: 0.2060 - accuracy: 0.9090\n",
            "Epoch 108/600\n",
            "432/432 [==============================] - 0s 186us/step - loss: 0.2046 - accuracy: 0.9084\n",
            "Epoch 109/600\n",
            "432/432 [==============================] - 0s 191us/step - loss: 0.2069 - accuracy: 0.9081\n",
            "Epoch 110/600\n",
            "432/432 [==============================] - 0s 180us/step - loss: 0.2059 - accuracy: 0.9082\n",
            "Epoch 111/600\n",
            "432/432 [==============================] - 0s 184us/step - loss: 0.2038 - accuracy: 0.9084\n",
            "Epoch 112/600\n",
            "432/432 [==============================] - 0s 186us/step - loss: 0.2040 - accuracy: 0.9091\n",
            "Epoch 113/600\n",
            "432/432 [==============================] - 0s 195us/step - loss: 0.2050 - accuracy: 0.9105\n",
            "Epoch 114/600\n",
            "432/432 [==============================] - 0s 182us/step - loss: 0.2030 - accuracy: 0.9081\n",
            "Epoch 115/600\n",
            "432/432 [==============================] - 0s 189us/step - loss: 0.2031 - accuracy: 0.9090\n",
            "Epoch 116/600\n",
            "432/432 [==============================] - 0s 191us/step - loss: 0.2018 - accuracy: 0.9102\n",
            "Epoch 117/600\n",
            "432/432 [==============================] - 0s 196us/step - loss: 0.2001 - accuracy: 0.9124\n",
            "Epoch 118/600\n",
            "432/432 [==============================] - 0s 182us/step - loss: 0.1998 - accuracy: 0.9091\n",
            "Epoch 119/600\n",
            "432/432 [==============================] - 0s 191us/step - loss: 0.2007 - accuracy: 0.9095\n",
            "Epoch 120/600\n",
            "432/432 [==============================] - 0s 184us/step - loss: 0.1986 - accuracy: 0.9120\n",
            "Epoch 121/600\n",
            "432/432 [==============================] - 0s 195us/step - loss: 0.1972 - accuracy: 0.9111\n",
            "Epoch 122/600\n",
            "432/432 [==============================] - 0s 190us/step - loss: 0.1978 - accuracy: 0.9134\n",
            "Epoch 123/600\n",
            "432/432 [==============================] - 0s 177us/step - loss: 0.2016 - accuracy: 0.9084\n",
            "Epoch 124/600\n",
            "432/432 [==============================] - 0s 182us/step - loss: 0.1974 - accuracy: 0.9129\n",
            "Epoch 125/600\n",
            "432/432 [==============================] - 0s 180us/step - loss: 0.1980 - accuracy: 0.9123\n",
            "Epoch 126/600\n",
            "432/432 [==============================] - 0s 196us/step - loss: 0.1946 - accuracy: 0.9132\n",
            "Epoch 127/600\n",
            "432/432 [==============================] - 0s 188us/step - loss: 0.1976 - accuracy: 0.9114\n",
            "Epoch 128/600\n",
            "432/432 [==============================] - 0s 188us/step - loss: 0.1974 - accuracy: 0.9137\n",
            "Epoch 129/600\n",
            "432/432 [==============================] - 0s 185us/step - loss: 0.1995 - accuracy: 0.9123\n",
            "Epoch 130/600\n",
            "432/432 [==============================] - 0s 217us/step - loss: 0.1966 - accuracy: 0.9111\n",
            "Epoch 131/600\n",
            "432/432 [==============================] - 0s 182us/step - loss: 0.1958 - accuracy: 0.9117\n",
            "Epoch 132/600\n",
            "432/432 [==============================] - 0s 235us/step - loss: 0.1956 - accuracy: 0.9115\n",
            "Epoch 133/600\n",
            "432/432 [==============================] - 0s 198us/step - loss: 0.1939 - accuracy: 0.9123\n",
            "Epoch 134/600\n",
            "432/432 [==============================] - 0s 188us/step - loss: 0.1960 - accuracy: 0.9130\n",
            "Epoch 135/600\n",
            "432/432 [==============================] - 0s 191us/step - loss: 0.1944 - accuracy: 0.9133\n",
            "Epoch 136/600\n",
            "432/432 [==============================] - 0s 192us/step - loss: 0.1960 - accuracy: 0.9111\n",
            "Epoch 137/600\n",
            "432/432 [==============================] - 0s 191us/step - loss: 0.1946 - accuracy: 0.9117\n",
            "Epoch 138/600\n",
            "432/432 [==============================] - 0s 197us/step - loss: 0.1924 - accuracy: 0.9148\n",
            "Epoch 139/600\n",
            "432/432 [==============================] - 0s 178us/step - loss: 0.1935 - accuracy: 0.9125\n",
            "Epoch 140/600\n",
            "432/432 [==============================] - 0s 177us/step - loss: 0.1940 - accuracy: 0.9115\n",
            "Epoch 141/600\n",
            "432/432 [==============================] - 0s 185us/step - loss: 0.1924 - accuracy: 0.9127\n",
            "Epoch 142/600\n",
            "432/432 [==============================] - 0s 183us/step - loss: 0.1922 - accuracy: 0.9137\n",
            "Epoch 143/600\n",
            "432/432 [==============================] - 0s 175us/step - loss: 0.1915 - accuracy: 0.9121\n",
            "Epoch 144/600\n",
            "432/432 [==============================] - 0s 198us/step - loss: 0.1881 - accuracy: 0.9163\n",
            "Epoch 145/600\n",
            "432/432 [==============================] - 0s 182us/step - loss: 0.1909 - accuracy: 0.9142\n",
            "Epoch 146/600\n",
            "432/432 [==============================] - 0s 193us/step - loss: 0.1898 - accuracy: 0.9168\n",
            "Epoch 147/600\n",
            "432/432 [==============================] - 0s 205us/step - loss: 0.1939 - accuracy: 0.9133\n",
            "Epoch 148/600\n",
            "432/432 [==============================] - 0s 197us/step - loss: 0.1904 - accuracy: 0.9145\n",
            "Epoch 149/600\n",
            "432/432 [==============================] - 0s 194us/step - loss: 0.1885 - accuracy: 0.9165\n",
            "Epoch 150/600\n",
            "432/432 [==============================] - 0s 187us/step - loss: 0.1893 - accuracy: 0.9160\n",
            "Epoch 151/600\n",
            "432/432 [==============================] - 0s 177us/step - loss: 0.1911 - accuracy: 0.9151\n",
            "Epoch 152/600\n",
            "432/432 [==============================] - 0s 194us/step - loss: 0.1918 - accuracy: 0.9136\n",
            "Epoch 153/600\n",
            "432/432 [==============================] - 0s 190us/step - loss: 0.1892 - accuracy: 0.9153\n",
            "Epoch 154/600\n",
            "432/432 [==============================] - 0s 216us/step - loss: 0.1913 - accuracy: 0.9137\n",
            "Epoch 155/600\n",
            "432/432 [==============================] - 0s 195us/step - loss: 0.1865 - accuracy: 0.9164\n",
            "Epoch 156/600\n",
            "432/432 [==============================] - 0s 182us/step - loss: 0.1867 - accuracy: 0.9176\n",
            "Epoch 157/600\n",
            "432/432 [==============================] - 0s 185us/step - loss: 0.1886 - accuracy: 0.9154\n",
            "Epoch 158/600\n",
            "432/432 [==============================] - 0s 195us/step - loss: 0.1870 - accuracy: 0.9176\n",
            "Epoch 159/600\n",
            "432/432 [==============================] - 0s 180us/step - loss: 0.1880 - accuracy: 0.9163\n",
            "Epoch 160/600\n",
            "432/432 [==============================] - 0s 186us/step - loss: 0.1897 - accuracy: 0.9132\n",
            "Epoch 161/600\n",
            "432/432 [==============================] - 0s 185us/step - loss: 0.1867 - accuracy: 0.9153\n",
            "Epoch 162/600\n",
            "432/432 [==============================] - 0s 181us/step - loss: 0.1869 - accuracy: 0.9171\n",
            "Epoch 163/600\n",
            "432/432 [==============================] - 0s 183us/step - loss: 0.1873 - accuracy: 0.9170\n",
            "Epoch 164/600\n",
            "432/432 [==============================] - 0s 197us/step - loss: 0.1857 - accuracy: 0.9151\n",
            "Epoch 165/600\n",
            "432/432 [==============================] - 0s 189us/step - loss: 0.1871 - accuracy: 0.9159\n",
            "Epoch 166/600\n",
            "432/432 [==============================] - 0s 220us/step - loss: 0.1883 - accuracy: 0.9135\n",
            "Epoch 167/600\n",
            "432/432 [==============================] - 0s 187us/step - loss: 0.1863 - accuracy: 0.9148\n",
            "Epoch 168/600\n",
            "432/432 [==============================] - 0s 184us/step - loss: 0.1876 - accuracy: 0.9156\n",
            "Epoch 169/600\n",
            "432/432 [==============================] - 0s 185us/step - loss: 0.1877 - accuracy: 0.9175\n",
            "Epoch 170/600\n",
            "432/432 [==============================] - 0s 182us/step - loss: 0.1852 - accuracy: 0.9180\n",
            "Epoch 171/600\n",
            "432/432 [==============================] - 0s 181us/step - loss: 0.1858 - accuracy: 0.9158\n",
            "Epoch 172/600\n",
            "432/432 [==============================] - 0s 186us/step - loss: 0.1854 - accuracy: 0.9174\n",
            "Epoch 173/600\n",
            "432/432 [==============================] - 0s 199us/step - loss: 0.1846 - accuracy: 0.9155\n",
            "Epoch 174/600\n",
            "432/432 [==============================] - 0s 195us/step - loss: 0.1861 - accuracy: 0.9197\n",
            "Epoch 175/600\n",
            "432/432 [==============================] - 0s 186us/step - loss: 0.1844 - accuracy: 0.9160\n",
            "Epoch 176/600\n",
            "432/432 [==============================] - 0s 201us/step - loss: 0.1842 - accuracy: 0.9153\n",
            "Epoch 177/600\n",
            "432/432 [==============================] - 0s 196us/step - loss: 0.1889 - accuracy: 0.9153\n",
            "Epoch 178/600\n",
            "432/432 [==============================] - 0s 206us/step - loss: 0.1875 - accuracy: 0.9148\n",
            "Epoch 179/600\n",
            "432/432 [==============================] - 0s 201us/step - loss: 0.1864 - accuracy: 0.9176\n",
            "Epoch 180/600\n",
            "432/432 [==============================] - 0s 201us/step - loss: 0.1830 - accuracy: 0.9177\n",
            "Epoch 181/600\n",
            "432/432 [==============================] - 0s 198us/step - loss: 0.1840 - accuracy: 0.9171\n",
            "Epoch 182/600\n",
            "432/432 [==============================] - 0s 189us/step - loss: 0.1839 - accuracy: 0.9168\n",
            "Epoch 183/600\n",
            "432/432 [==============================] - 0s 185us/step - loss: 0.1847 - accuracy: 0.9172\n",
            "Epoch 184/600\n",
            "432/432 [==============================] - 0s 190us/step - loss: 0.1826 - accuracy: 0.9187\n",
            "Epoch 185/600\n",
            "432/432 [==============================] - 0s 185us/step - loss: 0.1821 - accuracy: 0.9181\n",
            "Epoch 186/600\n",
            "432/432 [==============================] - 0s 186us/step - loss: 0.1833 - accuracy: 0.9171\n",
            "Epoch 187/600\n",
            "432/432 [==============================] - 0s 190us/step - loss: 0.1821 - accuracy: 0.9194\n",
            "Epoch 188/600\n",
            "432/432 [==============================] - 0s 201us/step - loss: 0.1839 - accuracy: 0.9157\n",
            "Epoch 189/600\n",
            "432/432 [==============================] - 0s 188us/step - loss: 0.1818 - accuracy: 0.9182\n",
            "Epoch 190/600\n",
            "432/432 [==============================] - 0s 211us/step - loss: 0.1832 - accuracy: 0.9181\n",
            "Epoch 191/600\n",
            "432/432 [==============================] - 0s 189us/step - loss: 0.1839 - accuracy: 0.9172\n",
            "Epoch 192/600\n",
            "432/432 [==============================] - 0s 199us/step - loss: 0.1833 - accuracy: 0.9157\n",
            "Epoch 193/600\n",
            "432/432 [==============================] - 0s 203us/step - loss: 0.1834 - accuracy: 0.9170\n",
            "Epoch 194/600\n",
            "432/432 [==============================] - 0s 216us/step - loss: 0.1804 - accuracy: 0.9169\n",
            "Epoch 195/600\n",
            "432/432 [==============================] - 0s 184us/step - loss: 0.1821 - accuracy: 0.9199\n",
            "Epoch 196/600\n",
            "432/432 [==============================] - 0s 202us/step - loss: 0.1829 - accuracy: 0.9174\n",
            "Epoch 197/600\n",
            "432/432 [==============================] - 0s 185us/step - loss: 0.1820 - accuracy: 0.9184\n",
            "Epoch 198/600\n",
            "432/432 [==============================] - 0s 177us/step - loss: 0.1812 - accuracy: 0.9171\n",
            "Epoch 199/600\n",
            "432/432 [==============================] - 0s 192us/step - loss: 0.1814 - accuracy: 0.9168\n",
            "Epoch 200/600\n",
            "432/432 [==============================] - 0s 191us/step - loss: 0.1807 - accuracy: 0.9178\n",
            "Epoch 201/600\n",
            "432/432 [==============================] - 0s 203us/step - loss: 0.1813 - accuracy: 0.9188\n",
            "Epoch 202/600\n",
            "432/432 [==============================] - 0s 204us/step - loss: 0.1809 - accuracy: 0.9188\n",
            "Epoch 203/600\n",
            "432/432 [==============================] - 0s 215us/step - loss: 0.1793 - accuracy: 0.9191\n",
            "Epoch 204/600\n",
            "432/432 [==============================] - 0s 184us/step - loss: 0.1813 - accuracy: 0.9182\n",
            "Epoch 205/600\n",
            "432/432 [==============================] - 0s 191us/step - loss: 0.1803 - accuracy: 0.9175\n",
            "Epoch 206/600\n",
            "432/432 [==============================] - 0s 183us/step - loss: 0.1821 - accuracy: 0.9182\n",
            "Epoch 207/600\n",
            "432/432 [==============================] - 0s 189us/step - loss: 0.1811 - accuracy: 0.9175\n",
            "Epoch 208/600\n",
            "432/432 [==============================] - 0s 192us/step - loss: 0.1817 - accuracy: 0.9164\n",
            "Epoch 209/600\n",
            "432/432 [==============================] - 0s 180us/step - loss: 0.1775 - accuracy: 0.9212\n",
            "Epoch 210/600\n",
            "432/432 [==============================] - 0s 191us/step - loss: 0.1788 - accuracy: 0.9203\n",
            "Epoch 211/600\n",
            "432/432 [==============================] - 0s 188us/step - loss: 0.1809 - accuracy: 0.9167\n",
            "Epoch 212/600\n",
            "432/432 [==============================] - 0s 175us/step - loss: 0.1787 - accuracy: 0.9186\n",
            "Epoch 213/600\n",
            "432/432 [==============================] - 0s 194us/step - loss: 0.1809 - accuracy: 0.9188\n",
            "Epoch 214/600\n",
            "432/432 [==============================] - 0s 201us/step - loss: 0.1761 - accuracy: 0.9219\n",
            "Epoch 215/600\n",
            "432/432 [==============================] - 0s 211us/step - loss: 0.1806 - accuracy: 0.9179\n",
            "Epoch 216/600\n",
            "432/432 [==============================] - 0s 184us/step - loss: 0.1784 - accuracy: 0.9190\n",
            "Epoch 217/600\n",
            "432/432 [==============================] - 0s 205us/step - loss: 0.1825 - accuracy: 0.9162\n",
            "Epoch 218/600\n",
            "432/432 [==============================] - 0s 189us/step - loss: 0.1807 - accuracy: 0.9161\n",
            "Epoch 219/600\n",
            "432/432 [==============================] - 0s 200us/step - loss: 0.1789 - accuracy: 0.9198\n",
            "Epoch 220/600\n",
            "432/432 [==============================] - 0s 206us/step - loss: 0.1781 - accuracy: 0.9193\n",
            "Epoch 221/600\n",
            "432/432 [==============================] - 0s 181us/step - loss: 0.1790 - accuracy: 0.9212\n",
            "Epoch 222/600\n",
            "432/432 [==============================] - 0s 180us/step - loss: 0.1796 - accuracy: 0.9195\n",
            "Epoch 223/600\n",
            "432/432 [==============================] - 0s 188us/step - loss: 0.1771 - accuracy: 0.9179\n",
            "Epoch 224/600\n",
            "432/432 [==============================] - 0s 176us/step - loss: 0.1806 - accuracy: 0.9175\n",
            "Epoch 225/600\n",
            "432/432 [==============================] - 0s 176us/step - loss: 0.1771 - accuracy: 0.9188\n",
            "Epoch 226/600\n",
            "432/432 [==============================] - 0s 203us/step - loss: 0.1816 - accuracy: 0.9153\n",
            "Epoch 227/600\n",
            "432/432 [==============================] - 0s 186us/step - loss: 0.1749 - accuracy: 0.9226\n",
            "Epoch 228/600\n",
            "432/432 [==============================] - 0s 176us/step - loss: 0.1775 - accuracy: 0.9187\n",
            "Epoch 229/600\n",
            "432/432 [==============================] - 0s 179us/step - loss: 0.1769 - accuracy: 0.9203\n",
            "Epoch 230/600\n",
            "432/432 [==============================] - 0s 178us/step - loss: 0.1796 - accuracy: 0.9174\n",
            "Epoch 231/600\n",
            "432/432 [==============================] - 0s 220us/step - loss: 0.1775 - accuracy: 0.9198\n",
            "Epoch 232/600\n",
            "432/432 [==============================] - 0s 176us/step - loss: 0.1805 - accuracy: 0.9161\n",
            "Epoch 233/600\n",
            "432/432 [==============================] - 0s 175us/step - loss: 0.1812 - accuracy: 0.9181\n",
            "Epoch 234/600\n",
            "432/432 [==============================] - 0s 204us/step - loss: 0.1795 - accuracy: 0.9188\n",
            "Epoch 235/600\n",
            "432/432 [==============================] - 0s 187us/step - loss: 0.1784 - accuracy: 0.9176\n",
            "Epoch 236/600\n",
            "432/432 [==============================] - 0s 175us/step - loss: 0.1787 - accuracy: 0.9207\n",
            "Epoch 237/600\n",
            "432/432 [==============================] - 0s 183us/step - loss: 0.1765 - accuracy: 0.9189\n",
            "Epoch 238/600\n",
            "432/432 [==============================] - 0s 193us/step - loss: 0.1771 - accuracy: 0.9198\n",
            "Epoch 239/600\n",
            "432/432 [==============================] - 0s 197us/step - loss: 0.1763 - accuracy: 0.9225\n",
            "Epoch 240/600\n",
            "432/432 [==============================] - 0s 177us/step - loss: 0.1776 - accuracy: 0.9168\n",
            "Epoch 241/600\n",
            "432/432 [==============================] - 0s 175us/step - loss: 0.1769 - accuracy: 0.9193\n",
            "Epoch 242/600\n",
            "432/432 [==============================] - 0s 177us/step - loss: 0.1768 - accuracy: 0.9202\n",
            "Epoch 243/600\n",
            "432/432 [==============================] - 0s 175us/step - loss: 0.1781 - accuracy: 0.9210\n",
            "Epoch 244/600\n",
            "432/432 [==============================] - 0s 172us/step - loss: 0.1771 - accuracy: 0.9178\n",
            "Epoch 245/600\n",
            "432/432 [==============================] - 0s 184us/step - loss: 0.1772 - accuracy: 0.9174\n",
            "Epoch 246/600\n",
            "432/432 [==============================] - 0s 178us/step - loss: 0.1763 - accuracy: 0.9171\n",
            "Epoch 247/600\n",
            "432/432 [==============================] - 0s 205us/step - loss: 0.1745 - accuracy: 0.9211\n",
            "Epoch 248/600\n",
            "432/432 [==============================] - 0s 203us/step - loss: 0.1768 - accuracy: 0.9205\n",
            "Epoch 249/600\n",
            "432/432 [==============================] - 0s 180us/step - loss: 0.1780 - accuracy: 0.9197\n",
            "Epoch 250/600\n",
            "432/432 [==============================] - 0s 185us/step - loss: 0.1764 - accuracy: 0.9170\n",
            "Epoch 251/600\n",
            "432/432 [==============================] - 0s 170us/step - loss: 0.1750 - accuracy: 0.9197\n",
            "Epoch 252/600\n",
            "432/432 [==============================] - 0s 172us/step - loss: 0.1745 - accuracy: 0.9198\n",
            "Epoch 253/600\n",
            "432/432 [==============================] - 0s 176us/step - loss: 0.1765 - accuracy: 0.9185\n",
            "Epoch 254/600\n",
            "432/432 [==============================] - 0s 175us/step - loss: 0.1782 - accuracy: 0.9197\n",
            "Epoch 255/600\n",
            "432/432 [==============================] - 0s 227us/step - loss: 0.1766 - accuracy: 0.9188\n",
            "Epoch 256/600\n",
            "432/432 [==============================] - 0s 180us/step - loss: 0.1764 - accuracy: 0.9198\n",
            "Epoch 257/600\n",
            "432/432 [==============================] - 0s 187us/step - loss: 0.1756 - accuracy: 0.9207\n",
            "Epoch 258/600\n",
            "432/432 [==============================] - 0s 187us/step - loss: 0.1767 - accuracy: 0.9205\n",
            "Epoch 259/600\n",
            "432/432 [==============================] - 0s 203us/step - loss: 0.1738 - accuracy: 0.9216\n",
            "Epoch 260/600\n",
            "432/432 [==============================] - 0s 181us/step - loss: 0.1757 - accuracy: 0.9187\n",
            "Epoch 261/600\n",
            "432/432 [==============================] - 0s 180us/step - loss: 0.1738 - accuracy: 0.9191\n",
            "Epoch 262/600\n",
            "432/432 [==============================] - 0s 175us/step - loss: 0.1758 - accuracy: 0.9216\n",
            "Epoch 263/600\n",
            "432/432 [==============================] - 0s 201us/step - loss: 0.1742 - accuracy: 0.9199\n",
            "Epoch 264/600\n",
            "432/432 [==============================] - 0s 184us/step - loss: 0.1737 - accuracy: 0.9212\n",
            "Epoch 265/600\n",
            "432/432 [==============================] - 0s 193us/step - loss: 0.1757 - accuracy: 0.9189\n",
            "Epoch 266/600\n",
            "432/432 [==============================] - 0s 198us/step - loss: 0.1743 - accuracy: 0.9202\n",
            "Epoch 267/600\n",
            "432/432 [==============================] - 0s 175us/step - loss: 0.1763 - accuracy: 0.9195\n",
            "Epoch 268/600\n",
            "432/432 [==============================] - 0s 172us/step - loss: 0.1761 - accuracy: 0.9186\n",
            "Epoch 269/600\n",
            "432/432 [==============================] - 0s 176us/step - loss: 0.1745 - accuracy: 0.9195\n",
            "Epoch 270/600\n",
            "432/432 [==============================] - 0s 181us/step - loss: 0.1739 - accuracy: 0.9194\n",
            "Epoch 271/600\n",
            "432/432 [==============================] - 0s 187us/step - loss: 0.1745 - accuracy: 0.9226\n",
            "Epoch 272/600\n",
            "432/432 [==============================] - 0s 177us/step - loss: 0.1758 - accuracy: 0.9212\n",
            "Epoch 273/600\n",
            "432/432 [==============================] - 0s 178us/step - loss: 0.1742 - accuracy: 0.9204\n",
            "Epoch 274/600\n",
            "432/432 [==============================] - 0s 172us/step - loss: 0.1772 - accuracy: 0.9180\n",
            "Epoch 275/600\n",
            "432/432 [==============================] - 0s 173us/step - loss: 0.1767 - accuracy: 0.9217\n",
            "Epoch 276/600\n",
            "432/432 [==============================] - 0s 176us/step - loss: 0.1725 - accuracy: 0.9210\n",
            "Epoch 277/600\n",
            "432/432 [==============================] - 0s 182us/step - loss: 0.1740 - accuracy: 0.9217\n",
            "Epoch 278/600\n",
            "432/432 [==============================] - 0s 185us/step - loss: 0.1742 - accuracy: 0.9194\n",
            "Epoch 279/600\n",
            "432/432 [==============================] - 0s 172us/step - loss: 0.1763 - accuracy: 0.9198\n",
            "Epoch 280/600\n",
            "432/432 [==============================] - 0s 188us/step - loss: 0.1753 - accuracy: 0.9191\n",
            "Epoch 281/600\n",
            "432/432 [==============================] - 0s 182us/step - loss: 0.1767 - accuracy: 0.9183\n",
            "Epoch 282/600\n",
            "432/432 [==============================] - 0s 173us/step - loss: 0.1730 - accuracy: 0.9218\n",
            "Epoch 283/600\n",
            "432/432 [==============================] - 0s 171us/step - loss: 0.1738 - accuracy: 0.9197\n",
            "Epoch 284/600\n",
            "432/432 [==============================] - 0s 193us/step - loss: 0.1748 - accuracy: 0.9192\n",
            "Epoch 285/600\n",
            "432/432 [==============================] - 0s 173us/step - loss: 0.1725 - accuracy: 0.9213\n",
            "Epoch 286/600\n",
            "432/432 [==============================] - 0s 180us/step - loss: 0.1734 - accuracy: 0.9200\n",
            "Epoch 287/600\n",
            "432/432 [==============================] - 0s 175us/step - loss: 0.1722 - accuracy: 0.9198\n",
            "Epoch 288/600\n",
            "432/432 [==============================] - 0s 190us/step - loss: 0.1749 - accuracy: 0.9195\n",
            "Epoch 289/600\n",
            "432/432 [==============================] - 0s 176us/step - loss: 0.1742 - accuracy: 0.9183\n",
            "Epoch 290/600\n",
            "432/432 [==============================] - 0s 207us/step - loss: 0.1741 - accuracy: 0.9197\n",
            "Epoch 291/600\n",
            "432/432 [==============================] - 0s 188us/step - loss: 0.1737 - accuracy: 0.9214\n",
            "Epoch 292/600\n",
            "432/432 [==============================] - 0s 201us/step - loss: 0.1747 - accuracy: 0.9206\n",
            "Epoch 293/600\n",
            "432/432 [==============================] - 0s 172us/step - loss: 0.1748 - accuracy: 0.9190\n",
            "Epoch 294/600\n",
            "432/432 [==============================] - 0s 175us/step - loss: 0.1740 - accuracy: 0.9198\n",
            "Epoch 295/600\n",
            "432/432 [==============================] - 0s 186us/step - loss: 0.1722 - accuracy: 0.9208\n",
            "Epoch 296/600\n",
            "432/432 [==============================] - 0s 173us/step - loss: 0.1734 - accuracy: 0.9225\n",
            "Epoch 297/600\n",
            "432/432 [==============================] - 0s 170us/step - loss: 0.1738 - accuracy: 0.9201\n",
            "Epoch 298/600\n",
            "432/432 [==============================] - 0s 173us/step - loss: 0.1726 - accuracy: 0.9209\n",
            "Epoch 299/600\n",
            "432/432 [==============================] - 0s 181us/step - loss: 0.1730 - accuracy: 0.9203\n",
            "Epoch 300/600\n",
            "432/432 [==============================] - 0s 178us/step - loss: 0.1745 - accuracy: 0.9182\n",
            "Epoch 301/600\n",
            "432/432 [==============================] - 0s 198us/step - loss: 0.1748 - accuracy: 0.9204\n",
            "Epoch 302/600\n",
            "432/432 [==============================] - 0s 178us/step - loss: 0.1719 - accuracy: 0.9232\n",
            "Epoch 303/600\n",
            "432/432 [==============================] - 0s 175us/step - loss: 0.1725 - accuracy: 0.9187\n",
            "Epoch 304/600\n",
            "432/432 [==============================] - 0s 185us/step - loss: 0.1733 - accuracy: 0.9195\n",
            "Epoch 305/600\n",
            "432/432 [==============================] - 0s 178us/step - loss: 0.1728 - accuracy: 0.9184\n",
            "Epoch 306/600\n",
            "432/432 [==============================] - 0s 200us/step - loss: 0.1722 - accuracy: 0.9199\n",
            "Epoch 307/600\n",
            "432/432 [==============================] - 0s 185us/step - loss: 0.1758 - accuracy: 0.9191\n",
            "Epoch 308/600\n",
            "432/432 [==============================] - 0s 183us/step - loss: 0.1742 - accuracy: 0.9195\n",
            "Epoch 309/600\n",
            "432/432 [==============================] - 0s 174us/step - loss: 0.1726 - accuracy: 0.9185\n",
            "Epoch 310/600\n",
            "432/432 [==============================] - 0s 184us/step - loss: 0.1729 - accuracy: 0.9214\n",
            "Epoch 311/600\n",
            "432/432 [==============================] - 0s 184us/step - loss: 0.1730 - accuracy: 0.9219\n",
            "Epoch 312/600\n",
            "432/432 [==============================] - 0s 182us/step - loss: 0.1731 - accuracy: 0.9196\n",
            "Epoch 313/600\n",
            "432/432 [==============================] - 0s 210us/step - loss: 0.1744 - accuracy: 0.9194\n",
            "Epoch 314/600\n",
            "432/432 [==============================] - 0s 199us/step - loss: 0.1734 - accuracy: 0.9201\n",
            "Epoch 315/600\n",
            "432/432 [==============================] - 0s 177us/step - loss: 0.1733 - accuracy: 0.9204\n",
            "Epoch 316/600\n",
            "432/432 [==============================] - 0s 181us/step - loss: 0.1741 - accuracy: 0.9198\n",
            "Epoch 317/600\n",
            "432/432 [==============================] - 0s 181us/step - loss: 0.1744 - accuracy: 0.9196\n",
            "Epoch 318/600\n",
            "432/432 [==============================] - 0s 172us/step - loss: 0.1725 - accuracy: 0.9201\n",
            "Epoch 319/600\n",
            "432/432 [==============================] - 0s 171us/step - loss: 0.1723 - accuracy: 0.9194\n",
            "Epoch 320/600\n",
            "432/432 [==============================] - 0s 174us/step - loss: 0.1735 - accuracy: 0.9189\n",
            "Epoch 321/600\n",
            "432/432 [==============================] - 0s 176us/step - loss: 0.1710 - accuracy: 0.9198\n",
            "Epoch 322/600\n",
            "432/432 [==============================] - 0s 194us/step - loss: 0.1730 - accuracy: 0.9195\n",
            "Epoch 323/600\n",
            "432/432 [==============================] - 0s 175us/step - loss: 0.1717 - accuracy: 0.9215\n",
            "Epoch 324/600\n",
            "432/432 [==============================] - 0s 171us/step - loss: 0.1713 - accuracy: 0.9229\n",
            "Epoch 325/600\n",
            "432/432 [==============================] - 0s 177us/step - loss: 0.1729 - accuracy: 0.9199\n",
            "Epoch 326/600\n",
            "432/432 [==============================] - 0s 204us/step - loss: 0.1729 - accuracy: 0.9193\n",
            "Epoch 327/600\n",
            "432/432 [==============================] - 0s 177us/step - loss: 0.1730 - accuracy: 0.9176\n",
            "Epoch 328/600\n",
            "432/432 [==============================] - 0s 173us/step - loss: 0.1717 - accuracy: 0.9213\n",
            "Epoch 329/600\n",
            "432/432 [==============================] - 0s 180us/step - loss: 0.1724 - accuracy: 0.9212\n",
            "Epoch 330/600\n",
            "432/432 [==============================] - 0s 199us/step - loss: 0.1726 - accuracy: 0.9195\n",
            "Epoch 331/600\n",
            "432/432 [==============================] - 0s 179us/step - loss: 0.1729 - accuracy: 0.9199\n",
            "Epoch 332/600\n",
            "432/432 [==============================] - 0s 187us/step - loss: 0.1715 - accuracy: 0.9208\n",
            "Epoch 333/600\n",
            "432/432 [==============================] - 0s 194us/step - loss: 0.1717 - accuracy: 0.9212\n",
            "Epoch 334/600\n",
            "432/432 [==============================] - 0s 183us/step - loss: 0.1724 - accuracy: 0.9195\n",
            "Epoch 335/600\n",
            "432/432 [==============================] - 0s 175us/step - loss: 0.1711 - accuracy: 0.9219\n",
            "Epoch 336/600\n",
            "432/432 [==============================] - 0s 191us/step - loss: 0.1717 - accuracy: 0.9209\n",
            "Epoch 337/600\n",
            "432/432 [==============================] - 0s 186us/step - loss: 0.1715 - accuracy: 0.9184\n",
            "Epoch 338/600\n",
            "432/432 [==============================] - 0s 215us/step - loss: 0.1703 - accuracy: 0.9215\n",
            "Epoch 339/600\n",
            "432/432 [==============================] - 0s 197us/step - loss: 0.1724 - accuracy: 0.9203\n",
            "Epoch 340/600\n",
            "432/432 [==============================] - 0s 183us/step - loss: 0.1710 - accuracy: 0.9216\n",
            "Epoch 341/600\n",
            "432/432 [==============================] - 0s 179us/step - loss: 0.1706 - accuracy: 0.9205\n",
            "Epoch 342/600\n",
            "432/432 [==============================] - 0s 182us/step - loss: 0.1741 - accuracy: 0.9189\n",
            "Epoch 343/600\n",
            "432/432 [==============================] - 0s 178us/step - loss: 0.1721 - accuracy: 0.9220\n",
            "Epoch 344/600\n",
            "432/432 [==============================] - 0s 174us/step - loss: 0.1707 - accuracy: 0.9217\n",
            "Epoch 345/600\n",
            "432/432 [==============================] - 0s 177us/step - loss: 0.1719 - accuracy: 0.9215\n",
            "Epoch 346/600\n",
            "432/432 [==============================] - 0s 183us/step - loss: 0.1727 - accuracy: 0.9205\n",
            "Epoch 347/600\n",
            "432/432 [==============================] - 0s 178us/step - loss: 0.1734 - accuracy: 0.9198\n",
            "Epoch 348/600\n",
            "432/432 [==============================] - 0s 176us/step - loss: 0.1705 - accuracy: 0.9203\n",
            "Epoch 349/600\n",
            "432/432 [==============================] - 0s 192us/step - loss: 0.1700 - accuracy: 0.9222\n",
            "Epoch 350/600\n",
            "432/432 [==============================] - 0s 194us/step - loss: 0.1702 - accuracy: 0.9211\n",
            "Epoch 351/600\n",
            "432/432 [==============================] - 0s 203us/step - loss: 0.1709 - accuracy: 0.9217\n",
            "Epoch 352/600\n",
            "432/432 [==============================] - 0s 184us/step - loss: 0.1700 - accuracy: 0.9203\n",
            "Epoch 353/600\n",
            "432/432 [==============================] - 0s 183us/step - loss: 0.1743 - accuracy: 0.9196\n",
            "Epoch 354/600\n",
            "432/432 [==============================] - 0s 187us/step - loss: 0.1727 - accuracy: 0.9177\n",
            "Epoch 355/600\n",
            "432/432 [==============================] - 0s 178us/step - loss: 0.1714 - accuracy: 0.9198\n",
            "Epoch 356/600\n",
            "432/432 [==============================] - 0s 175us/step - loss: 0.1707 - accuracy: 0.9208\n",
            "Epoch 357/600\n",
            "432/432 [==============================] - 0s 183us/step - loss: 0.1718 - accuracy: 0.9197\n",
            "Epoch 358/600\n",
            "432/432 [==============================] - 0s 177us/step - loss: 0.1704 - accuracy: 0.9212\n",
            "Epoch 359/600\n",
            "432/432 [==============================] - 0s 179us/step - loss: 0.1696 - accuracy: 0.9219\n",
            "Epoch 360/600\n",
            "432/432 [==============================] - 0s 178us/step - loss: 0.1718 - accuracy: 0.9211\n",
            "Epoch 361/600\n",
            "432/432 [==============================] - 0s 184us/step - loss: 0.1713 - accuracy: 0.9198\n",
            "Epoch 362/600\n",
            "432/432 [==============================] - 0s 178us/step - loss: 0.1710 - accuracy: 0.9207\n",
            "Epoch 363/600\n",
            "432/432 [==============================] - 0s 199us/step - loss: 0.1698 - accuracy: 0.9202\n",
            "Epoch 364/600\n",
            "432/432 [==============================] - 0s 190us/step - loss: 0.1714 - accuracy: 0.9203\n",
            "Epoch 365/600\n",
            "432/432 [==============================] - 0s 185us/step - loss: 0.1718 - accuracy: 0.9201\n",
            "Epoch 366/600\n",
            "432/432 [==============================] - 0s 182us/step - loss: 0.1716 - accuracy: 0.9186\n",
            "Epoch 367/600\n",
            "432/432 [==============================] - 0s 170us/step - loss: 0.1722 - accuracy: 0.9201\n",
            "Epoch 368/600\n",
            "432/432 [==============================] - 0s 179us/step - loss: 0.1710 - accuracy: 0.9191\n",
            "Epoch 369/600\n",
            "432/432 [==============================] - 0s 188us/step - loss: 0.1707 - accuracy: 0.9207\n",
            "Epoch 370/600\n",
            "432/432 [==============================] - 0s 185us/step - loss: 0.1702 - accuracy: 0.9203\n",
            "Epoch 371/600\n",
            "432/432 [==============================] - 0s 175us/step - loss: 0.1693 - accuracy: 0.9204\n",
            "Epoch 372/600\n",
            "432/432 [==============================] - 0s 176us/step - loss: 0.1715 - accuracy: 0.9208\n",
            "Epoch 373/600\n",
            "432/432 [==============================] - 0s 184us/step - loss: 0.1697 - accuracy: 0.9205\n",
            "Epoch 374/600\n",
            "432/432 [==============================] - 0s 188us/step - loss: 0.1694 - accuracy: 0.9218\n",
            "Epoch 375/600\n",
            "432/432 [==============================] - 0s 193us/step - loss: 0.1713 - accuracy: 0.9204\n",
            "Epoch 376/600\n",
            "432/432 [==============================] - 0s 194us/step - loss: 0.1683 - accuracy: 0.9230\n",
            "Epoch 377/600\n",
            "432/432 [==============================] - 0s 179us/step - loss: 0.1681 - accuracy: 0.9206\n",
            "Epoch 378/600\n",
            "432/432 [==============================] - 0s 193us/step - loss: 0.1697 - accuracy: 0.9208\n",
            "Epoch 379/600\n",
            "432/432 [==============================] - 0s 182us/step - loss: 0.1693 - accuracy: 0.9208\n",
            "Epoch 380/600\n",
            "432/432 [==============================] - 0s 220us/step - loss: 0.1710 - accuracy: 0.9200\n",
            "Epoch 381/600\n",
            "432/432 [==============================] - 0s 201us/step - loss: 0.1712 - accuracy: 0.9201\n",
            "Epoch 382/600\n",
            "432/432 [==============================] - 0s 178us/step - loss: 0.1699 - accuracy: 0.9222\n",
            "Epoch 383/600\n",
            "432/432 [==============================] - 0s 180us/step - loss: 0.1698 - accuracy: 0.9216\n",
            "Epoch 384/600\n",
            "432/432 [==============================] - 0s 175us/step - loss: 0.1709 - accuracy: 0.9200\n",
            "Epoch 385/600\n",
            "432/432 [==============================] - 0s 186us/step - loss: 0.1700 - accuracy: 0.9224\n",
            "Epoch 386/600\n",
            "432/432 [==============================] - 0s 178us/step - loss: 0.1699 - accuracy: 0.9217\n",
            "Epoch 387/600\n",
            "432/432 [==============================] - 0s 191us/step - loss: 0.1708 - accuracy: 0.9216\n",
            "Epoch 388/600\n",
            "432/432 [==============================] - 0s 203us/step - loss: 0.1702 - accuracy: 0.9199\n",
            "Epoch 389/600\n",
            "432/432 [==============================] - 0s 175us/step - loss: 0.1703 - accuracy: 0.9207\n",
            "Epoch 390/600\n",
            "432/432 [==============================] - 0s 177us/step - loss: 0.1693 - accuracy: 0.9204\n",
            "Epoch 391/600\n",
            "432/432 [==============================] - 0s 171us/step - loss: 0.1695 - accuracy: 0.9205\n",
            "Epoch 392/600\n",
            "432/432 [==============================] - 0s 175us/step - loss: 0.1682 - accuracy: 0.9221\n",
            "Epoch 393/600\n",
            "432/432 [==============================] - 0s 174us/step - loss: 0.1694 - accuracy: 0.9200\n",
            "Epoch 394/600\n",
            "432/432 [==============================] - 0s 181us/step - loss: 0.1696 - accuracy: 0.9219\n",
            "Epoch 395/600\n",
            "432/432 [==============================] - 0s 182us/step - loss: 0.1704 - accuracy: 0.9218\n",
            "Epoch 396/600\n",
            "432/432 [==============================] - 0s 188us/step - loss: 0.1704 - accuracy: 0.9203\n",
            "Epoch 397/600\n",
            "432/432 [==============================] - 0s 175us/step - loss: 0.1684 - accuracy: 0.9226\n",
            "Epoch 398/600\n",
            "432/432 [==============================] - 0s 183us/step - loss: 0.1680 - accuracy: 0.9232\n",
            "Epoch 399/600\n",
            "432/432 [==============================] - 0s 202us/step - loss: 0.1671 - accuracy: 0.9210\n",
            "Epoch 400/600\n",
            "432/432 [==============================] - 0s 187us/step - loss: 0.1674 - accuracy: 0.9219\n",
            "Epoch 401/600\n",
            "432/432 [==============================] - 0s 202us/step - loss: 0.1702 - accuracy: 0.9208\n",
            "Epoch 402/600\n",
            "432/432 [==============================] - 0s 190us/step - loss: 0.1697 - accuracy: 0.9218\n",
            "Epoch 403/600\n",
            "432/432 [==============================] - 0s 192us/step - loss: 0.1695 - accuracy: 0.9214\n",
            "Epoch 404/600\n",
            "432/432 [==============================] - 0s 183us/step - loss: 0.1701 - accuracy: 0.9198\n",
            "Epoch 405/600\n",
            "432/432 [==============================] - 0s 174us/step - loss: 0.1694 - accuracy: 0.9228\n",
            "Epoch 406/600\n",
            "432/432 [==============================] - 0s 184us/step - loss: 0.1689 - accuracy: 0.9214\n",
            "Epoch 407/600\n",
            "432/432 [==============================] - 0s 204us/step - loss: 0.1678 - accuracy: 0.9223\n",
            "Epoch 408/600\n",
            "432/432 [==============================] - 0s 190us/step - loss: 0.1694 - accuracy: 0.9208\n",
            "Epoch 409/600\n",
            "432/432 [==============================] - 0s 185us/step - loss: 0.1700 - accuracy: 0.9212\n",
            "Epoch 410/600\n",
            "432/432 [==============================] - 0s 180us/step - loss: 0.1684 - accuracy: 0.9216\n",
            "Epoch 411/600\n",
            "432/432 [==============================] - 0s 188us/step - loss: 0.1682 - accuracy: 0.9203\n",
            "Epoch 412/600\n",
            "432/432 [==============================] - 0s 180us/step - loss: 0.1687 - accuracy: 0.9221\n",
            "Epoch 413/600\n",
            "432/432 [==============================] - 0s 203us/step - loss: 0.1699 - accuracy: 0.9224\n",
            "Epoch 414/600\n",
            "432/432 [==============================] - 0s 184us/step - loss: 0.1713 - accuracy: 0.9215\n",
            "Epoch 415/600\n",
            "432/432 [==============================] - 0s 184us/step - loss: 0.1691 - accuracy: 0.9209\n",
            "Epoch 416/600\n",
            "432/432 [==============================] - 0s 178us/step - loss: 0.1684 - accuracy: 0.9227\n",
            "Epoch 417/600\n",
            "432/432 [==============================] - 0s 196us/step - loss: 0.1690 - accuracy: 0.9214\n",
            "Epoch 418/600\n",
            "432/432 [==============================] - 0s 176us/step - loss: 0.1688 - accuracy: 0.9210\n",
            "Epoch 419/600\n",
            "432/432 [==============================] - 0s 184us/step - loss: 0.1684 - accuracy: 0.9212\n",
            "Epoch 420/600\n",
            "432/432 [==============================] - 0s 173us/step - loss: 0.1673 - accuracy: 0.9212\n",
            "Epoch 421/600\n",
            "432/432 [==============================] - 0s 185us/step - loss: 0.1682 - accuracy: 0.9217\n",
            "Epoch 422/600\n",
            "432/432 [==============================] - 0s 179us/step - loss: 0.1703 - accuracy: 0.9203\n",
            "Epoch 423/600\n",
            "432/432 [==============================] - 0s 181us/step - loss: 0.1706 - accuracy: 0.9219\n",
            "Epoch 424/600\n",
            "432/432 [==============================] - 0s 191us/step - loss: 0.1721 - accuracy: 0.9186\n",
            "Epoch 425/600\n",
            "432/432 [==============================] - 0s 222us/step - loss: 0.1695 - accuracy: 0.9203\n",
            "Epoch 426/600\n",
            "432/432 [==============================] - 0s 187us/step - loss: 0.1694 - accuracy: 0.9217\n",
            "Epoch 427/600\n",
            "432/432 [==============================] - 0s 176us/step - loss: 0.1700 - accuracy: 0.9180\n",
            "Epoch 428/600\n",
            "432/432 [==============================] - 0s 192us/step - loss: 0.1686 - accuracy: 0.9231\n",
            "Epoch 429/600\n",
            "432/432 [==============================] - 0s 184us/step - loss: 0.1699 - accuracy: 0.9208\n",
            "Epoch 430/600\n",
            "432/432 [==============================] - 0s 172us/step - loss: 0.1706 - accuracy: 0.9178\n",
            "Epoch 431/600\n",
            "432/432 [==============================] - 0s 177us/step - loss: 0.1696 - accuracy: 0.9211\n",
            "Epoch 432/600\n",
            "432/432 [==============================] - 0s 181us/step - loss: 0.1667 - accuracy: 0.9227\n",
            "Epoch 433/600\n",
            "432/432 [==============================] - 0s 183us/step - loss: 0.1684 - accuracy: 0.9206\n",
            "Epoch 434/600\n",
            "432/432 [==============================] - 0s 175us/step - loss: 0.1694 - accuracy: 0.9223\n",
            "Epoch 435/600\n",
            "432/432 [==============================] - 0s 181us/step - loss: 0.1702 - accuracy: 0.9202\n",
            "Epoch 436/600\n",
            "432/432 [==============================] - 0s 191us/step - loss: 0.1682 - accuracy: 0.9219\n",
            "Epoch 437/600\n",
            "432/432 [==============================] - 0s 184us/step - loss: 0.1686 - accuracy: 0.9218\n",
            "Epoch 438/600\n",
            "432/432 [==============================] - 0s 195us/step - loss: 0.1686 - accuracy: 0.9202\n",
            "Epoch 439/600\n",
            "432/432 [==============================] - 0s 179us/step - loss: 0.1680 - accuracy: 0.9214\n",
            "Epoch 440/600\n",
            "432/432 [==============================] - 0s 171us/step - loss: 0.1693 - accuracy: 0.9205\n",
            "Epoch 441/600\n",
            "432/432 [==============================] - 0s 178us/step - loss: 0.1681 - accuracy: 0.9222\n",
            "Epoch 442/600\n",
            "432/432 [==============================] - 0s 172us/step - loss: 0.1696 - accuracy: 0.9194\n",
            "Epoch 443/600\n",
            "432/432 [==============================] - 0s 184us/step - loss: 0.1675 - accuracy: 0.9220\n",
            "Epoch 444/600\n",
            "432/432 [==============================] - 0s 174us/step - loss: 0.1670 - accuracy: 0.9206\n",
            "Epoch 445/600\n",
            "432/432 [==============================] - 0s 188us/step - loss: 0.1697 - accuracy: 0.9209\n",
            "Epoch 446/600\n",
            "432/432 [==============================] - 0s 183us/step - loss: 0.1654 - accuracy: 0.9229\n",
            "Epoch 447/600\n",
            "432/432 [==============================] - 0s 171us/step - loss: 0.1690 - accuracy: 0.9197\n",
            "Epoch 448/600\n",
            "432/432 [==============================] - 0s 184us/step - loss: 0.1682 - accuracy: 0.9194\n",
            "Epoch 449/600\n",
            "432/432 [==============================] - 0s 178us/step - loss: 0.1698 - accuracy: 0.9185\n",
            "Epoch 450/600\n",
            "432/432 [==============================] - 0s 175us/step - loss: 0.1671 - accuracy: 0.9213\n",
            "Epoch 451/600\n",
            "432/432 [==============================] - 0s 205us/step - loss: 0.1657 - accuracy: 0.9226\n",
            "Epoch 452/600\n",
            "432/432 [==============================] - 0s 181us/step - loss: 0.1681 - accuracy: 0.9202\n",
            "Epoch 453/600\n",
            "432/432 [==============================] - 0s 187us/step - loss: 0.1672 - accuracy: 0.9217\n",
            "Epoch 454/600\n",
            "432/432 [==============================] - 0s 182us/step - loss: 0.1676 - accuracy: 0.9213\n",
            "Epoch 455/600\n",
            "432/432 [==============================] - 0s 176us/step - loss: 0.1660 - accuracy: 0.9202\n",
            "Epoch 456/600\n",
            "432/432 [==============================] - 0s 182us/step - loss: 0.1662 - accuracy: 0.9224\n",
            "Epoch 457/600\n",
            "432/432 [==============================] - 0s 184us/step - loss: 0.1681 - accuracy: 0.9215\n",
            "Epoch 458/600\n",
            "432/432 [==============================] - 0s 185us/step - loss: 0.1693 - accuracy: 0.9197\n",
            "Epoch 459/600\n",
            "432/432 [==============================] - 0s 181us/step - loss: 0.1682 - accuracy: 0.9216\n",
            "Epoch 460/600\n",
            "432/432 [==============================] - 0s 184us/step - loss: 0.1687 - accuracy: 0.9207\n",
            "Epoch 461/600\n",
            "432/432 [==============================] - 0s 178us/step - loss: 0.1677 - accuracy: 0.9223\n",
            "Epoch 462/600\n",
            "432/432 [==============================] - 0s 182us/step - loss: 0.1687 - accuracy: 0.9202\n",
            "Epoch 463/600\n",
            "432/432 [==============================] - 0s 196us/step - loss: 0.1684 - accuracy: 0.9192\n",
            "Epoch 464/600\n",
            "432/432 [==============================] - 0s 199us/step - loss: 0.1700 - accuracy: 0.9200\n",
            "Epoch 465/600\n",
            "432/432 [==============================] - 0s 170us/step - loss: 0.1710 - accuracy: 0.9203\n",
            "Epoch 466/600\n",
            "432/432 [==============================] - 0s 183us/step - loss: 0.1683 - accuracy: 0.9203\n",
            "Epoch 467/600\n",
            "432/432 [==============================] - 0s 175us/step - loss: 0.1686 - accuracy: 0.9201\n",
            "Epoch 468/600\n",
            "432/432 [==============================] - 0s 178us/step - loss: 0.1677 - accuracy: 0.9223\n",
            "Epoch 469/600\n",
            "432/432 [==============================] - 0s 184us/step - loss: 0.1681 - accuracy: 0.9228\n",
            "Epoch 470/600\n",
            "432/432 [==============================] - 0s 189us/step - loss: 0.1670 - accuracy: 0.9231\n",
            "Epoch 471/600\n",
            "432/432 [==============================] - 0s 183us/step - loss: 0.1698 - accuracy: 0.9199\n",
            "Epoch 472/600\n",
            "432/432 [==============================] - 0s 175us/step - loss: 0.1670 - accuracy: 0.9223\n",
            "Epoch 473/600\n",
            "432/432 [==============================] - 0s 192us/step - loss: 0.1668 - accuracy: 0.9216\n",
            "Epoch 474/600\n",
            "432/432 [==============================] - 0s 189us/step - loss: 0.1681 - accuracy: 0.9207\n",
            "Epoch 475/600\n",
            "432/432 [==============================] - 0s 187us/step - loss: 0.1695 - accuracy: 0.9193\n",
            "Epoch 476/600\n",
            "432/432 [==============================] - 0s 195us/step - loss: 0.1700 - accuracy: 0.9209\n",
            "Epoch 477/600\n",
            "432/432 [==============================] - 0s 177us/step - loss: 0.1683 - accuracy: 0.9202\n",
            "Epoch 478/600\n",
            "432/432 [==============================] - 0s 211us/step - loss: 0.1681 - accuracy: 0.9213\n",
            "Epoch 479/600\n",
            "432/432 [==============================] - 0s 185us/step - loss: 0.1689 - accuracy: 0.9208\n",
            "Epoch 480/600\n",
            "432/432 [==============================] - 0s 183us/step - loss: 0.1679 - accuracy: 0.9205\n",
            "Epoch 481/600\n",
            "432/432 [==============================] - 0s 188us/step - loss: 0.1673 - accuracy: 0.9215\n",
            "Epoch 482/600\n",
            "432/432 [==============================] - 0s 189us/step - loss: 0.1667 - accuracy: 0.9230\n",
            "Epoch 483/600\n",
            "432/432 [==============================] - 0s 180us/step - loss: 0.1654 - accuracy: 0.9229\n",
            "Epoch 484/600\n",
            "432/432 [==============================] - 0s 197us/step - loss: 0.1675 - accuracy: 0.9223\n",
            "Epoch 485/600\n",
            "432/432 [==============================] - 0s 183us/step - loss: 0.1686 - accuracy: 0.9207\n",
            "Epoch 486/600\n",
            "432/432 [==============================] - 0s 186us/step - loss: 0.1689 - accuracy: 0.9198\n",
            "Epoch 487/600\n",
            "432/432 [==============================] - 0s 177us/step - loss: 0.1674 - accuracy: 0.9198\n",
            "Epoch 488/600\n",
            "432/432 [==============================] - 0s 190us/step - loss: 0.1686 - accuracy: 0.9217\n",
            "Epoch 489/600\n",
            "432/432 [==============================] - 0s 171us/step - loss: 0.1666 - accuracy: 0.9203\n",
            "Epoch 490/600\n",
            "432/432 [==============================] - 0s 170us/step - loss: 0.1664 - accuracy: 0.9213\n",
            "Epoch 491/600\n",
            "432/432 [==============================] - 0s 184us/step - loss: 0.1687 - accuracy: 0.9210\n",
            "Epoch 492/600\n",
            "432/432 [==============================] - 0s 181us/step - loss: 0.1696 - accuracy: 0.9208\n",
            "Epoch 493/600\n",
            "432/432 [==============================] - 0s 192us/step - loss: 0.1685 - accuracy: 0.9208\n",
            "Epoch 494/600\n",
            "432/432 [==============================] - 0s 180us/step - loss: 0.1674 - accuracy: 0.9217\n",
            "Epoch 495/600\n",
            "432/432 [==============================] - 0s 173us/step - loss: 0.1663 - accuracy: 0.9220\n",
            "Epoch 496/600\n",
            "432/432 [==============================] - 0s 178us/step - loss: 0.1671 - accuracy: 0.9197\n",
            "Epoch 497/600\n",
            "432/432 [==============================] - 0s 169us/step - loss: 0.1700 - accuracy: 0.9186\n",
            "Epoch 498/600\n",
            "432/432 [==============================] - 0s 181us/step - loss: 0.1677 - accuracy: 0.9212\n",
            "Epoch 499/600\n",
            "432/432 [==============================] - 0s 173us/step - loss: 0.1676 - accuracy: 0.9204\n",
            "Epoch 500/600\n",
            "432/432 [==============================] - 0s 174us/step - loss: 0.1664 - accuracy: 0.9220\n",
            "Epoch 501/600\n",
            "432/432 [==============================] - 0s 194us/step - loss: 0.1676 - accuracy: 0.9213\n",
            "Epoch 502/600\n",
            "432/432 [==============================] - 0s 170us/step - loss: 0.1688 - accuracy: 0.9213\n",
            "Epoch 503/600\n",
            "432/432 [==============================] - 0s 174us/step - loss: 0.1676 - accuracy: 0.9212\n",
            "Epoch 504/600\n",
            "432/432 [==============================] - 0s 173us/step - loss: 0.1669 - accuracy: 0.9221\n",
            "Epoch 505/600\n",
            "432/432 [==============================] - 0s 175us/step - loss: 0.1672 - accuracy: 0.9222\n",
            "Epoch 506/600\n",
            "432/432 [==============================] - 0s 173us/step - loss: 0.1689 - accuracy: 0.9206\n",
            "Epoch 507/600\n",
            "432/432 [==============================] - 0s 203us/step - loss: 0.1690 - accuracy: 0.9200\n",
            "Epoch 508/600\n",
            "432/432 [==============================] - 0s 213us/step - loss: 0.1684 - accuracy: 0.9207\n",
            "Epoch 509/600\n",
            "432/432 [==============================] - 0s 192us/step - loss: 0.1671 - accuracy: 0.9224\n",
            "Epoch 510/600\n",
            "432/432 [==============================] - 0s 199us/step - loss: 0.1668 - accuracy: 0.9225\n",
            "Epoch 511/600\n",
            "432/432 [==============================] - 0s 179us/step - loss: 0.1670 - accuracy: 0.9230\n",
            "Epoch 512/600\n",
            "432/432 [==============================] - 0s 177us/step - loss: 0.1681 - accuracy: 0.9193\n",
            "Epoch 513/600\n",
            "432/432 [==============================] - 0s 192us/step - loss: 0.1674 - accuracy: 0.9204\n",
            "Epoch 514/600\n",
            "432/432 [==============================] - 0s 177us/step - loss: 0.1663 - accuracy: 0.9221\n",
            "Epoch 515/600\n",
            "432/432 [==============================] - 0s 174us/step - loss: 0.1664 - accuracy: 0.9204\n",
            "Epoch 516/600\n",
            "432/432 [==============================] - 0s 180us/step - loss: 0.1679 - accuracy: 0.9219\n",
            "Epoch 517/600\n",
            "432/432 [==============================] - 0s 181us/step - loss: 0.1679 - accuracy: 0.9207\n",
            "Epoch 518/600\n",
            "432/432 [==============================] - 0s 179us/step - loss: 0.1680 - accuracy: 0.9205\n",
            "Epoch 519/600\n",
            "432/432 [==============================] - 0s 185us/step - loss: 0.1688 - accuracy: 0.9215\n",
            "Epoch 520/600\n",
            "432/432 [==============================] - 0s 177us/step - loss: 0.1682 - accuracy: 0.9195\n",
            "Epoch 521/600\n",
            "432/432 [==============================] - 0s 185us/step - loss: 0.1662 - accuracy: 0.9203\n",
            "Epoch 522/600\n",
            "432/432 [==============================] - 0s 190us/step - loss: 0.1663 - accuracy: 0.9232\n",
            "Epoch 523/600\n",
            "432/432 [==============================] - 0s 181us/step - loss: 0.1688 - accuracy: 0.9207\n",
            "Epoch 524/600\n",
            "432/432 [==============================] - 0s 184us/step - loss: 0.1679 - accuracy: 0.9212\n",
            "Epoch 525/600\n",
            "432/432 [==============================] - 0s 189us/step - loss: 0.1688 - accuracy: 0.9195\n",
            "Epoch 526/600\n",
            "432/432 [==============================] - 0s 188us/step - loss: 0.1674 - accuracy: 0.9208\n",
            "Epoch 527/600\n",
            "432/432 [==============================] - 0s 190us/step - loss: 0.1656 - accuracy: 0.9227\n",
            "Epoch 528/600\n",
            "432/432 [==============================] - 0s 180us/step - loss: 0.1688 - accuracy: 0.9190\n",
            "Epoch 529/600\n",
            "432/432 [==============================] - 0s 179us/step - loss: 0.1666 - accuracy: 0.9218\n",
            "Epoch 530/600\n",
            "432/432 [==============================] - 0s 183us/step - loss: 0.1653 - accuracy: 0.9226\n",
            "Epoch 531/600\n",
            "432/432 [==============================] - 0s 189us/step - loss: 0.1678 - accuracy: 0.9221\n",
            "Epoch 532/600\n",
            "432/432 [==============================] - 0s 187us/step - loss: 0.1699 - accuracy: 0.9190\n",
            "Epoch 533/600\n",
            "432/432 [==============================] - 0s 178us/step - loss: 0.1688 - accuracy: 0.9202\n",
            "Epoch 534/600\n",
            "432/432 [==============================] - 0s 189us/step - loss: 0.1674 - accuracy: 0.9214\n",
            "Epoch 535/600\n",
            "432/432 [==============================] - 0s 186us/step - loss: 0.1672 - accuracy: 0.9199\n",
            "Epoch 536/600\n",
            "432/432 [==============================] - 0s 176us/step - loss: 0.1663 - accuracy: 0.9223\n",
            "Epoch 537/600\n",
            "432/432 [==============================] - 0s 180us/step - loss: 0.1657 - accuracy: 0.9233\n",
            "Epoch 538/600\n",
            "432/432 [==============================] - 0s 172us/step - loss: 0.1660 - accuracy: 0.9210\n",
            "Epoch 539/600\n",
            "432/432 [==============================] - 0s 201us/step - loss: 0.1660 - accuracy: 0.9219\n",
            "Epoch 540/600\n",
            "432/432 [==============================] - 0s 178us/step - loss: 0.1682 - accuracy: 0.9209\n",
            "Epoch 541/600\n",
            "432/432 [==============================] - 0s 177us/step - loss: 0.1671 - accuracy: 0.9200\n",
            "Epoch 542/600\n",
            "432/432 [==============================] - 0s 199us/step - loss: 0.1664 - accuracy: 0.9222\n",
            "Epoch 543/600\n",
            "432/432 [==============================] - 0s 181us/step - loss: 0.1655 - accuracy: 0.9204\n",
            "Epoch 544/600\n",
            "432/432 [==============================] - 0s 183us/step - loss: 0.1654 - accuracy: 0.9215\n",
            "Epoch 545/600\n",
            "432/432 [==============================] - 0s 187us/step - loss: 0.1656 - accuracy: 0.9223\n",
            "Epoch 546/600\n",
            "432/432 [==============================] - 0s 182us/step - loss: 0.1671 - accuracy: 0.9211\n",
            "Epoch 547/600\n",
            "432/432 [==============================] - 0s 173us/step - loss: 0.1664 - accuracy: 0.9224\n",
            "Epoch 548/600\n",
            "432/432 [==============================] - 0s 179us/step - loss: 0.1658 - accuracy: 0.9239\n",
            "Epoch 549/600\n",
            "432/432 [==============================] - 0s 172us/step - loss: 0.1671 - accuracy: 0.9208\n",
            "Epoch 550/600\n",
            "432/432 [==============================] - 0s 190us/step - loss: 0.1653 - accuracy: 0.9223\n",
            "Epoch 551/600\n",
            "432/432 [==============================] - 0s 195us/step - loss: 0.1675 - accuracy: 0.9210\n",
            "Epoch 552/600\n",
            "432/432 [==============================] - 0s 177us/step - loss: 0.1677 - accuracy: 0.9214\n",
            "Epoch 553/600\n",
            "432/432 [==============================] - 0s 195us/step - loss: 0.1678 - accuracy: 0.9228\n",
            "Epoch 554/600\n",
            "432/432 [==============================] - 0s 182us/step - loss: 0.1668 - accuracy: 0.9220\n",
            "Epoch 555/600\n",
            "432/432 [==============================] - 0s 186us/step - loss: 0.1655 - accuracy: 0.9208\n",
            "Epoch 556/600\n",
            "432/432 [==============================] - 0s 203us/step - loss: 0.1673 - accuracy: 0.9199\n",
            "Epoch 557/600\n",
            "432/432 [==============================] - 0s 180us/step - loss: 0.1665 - accuracy: 0.9237\n",
            "Epoch 558/600\n",
            "432/432 [==============================] - 0s 186us/step - loss: 0.1648 - accuracy: 0.9231\n",
            "Epoch 559/600\n",
            "432/432 [==============================] - 0s 192us/step - loss: 0.1662 - accuracy: 0.9230\n",
            "Epoch 560/600\n",
            "432/432 [==============================] - 0s 188us/step - loss: 0.1660 - accuracy: 0.9204\n",
            "Epoch 561/600\n",
            "432/432 [==============================] - 0s 194us/step - loss: 0.1675 - accuracy: 0.9198\n",
            "Epoch 562/600\n",
            "432/432 [==============================] - 0s 187us/step - loss: 0.1671 - accuracy: 0.9210\n",
            "Epoch 563/600\n",
            "432/432 [==============================] - 0s 195us/step - loss: 0.1664 - accuracy: 0.9213\n",
            "Epoch 564/600\n",
            "432/432 [==============================] - 0s 184us/step - loss: 0.1668 - accuracy: 0.9198\n",
            "Epoch 565/600\n",
            "432/432 [==============================] - 0s 192us/step - loss: 0.1658 - accuracy: 0.9232\n",
            "Epoch 566/600\n",
            "432/432 [==============================] - 0s 190us/step - loss: 0.1657 - accuracy: 0.9232\n",
            "Epoch 567/600\n",
            "432/432 [==============================] - 0s 197us/step - loss: 0.1660 - accuracy: 0.9212\n",
            "Epoch 568/600\n",
            "432/432 [==============================] - 0s 189us/step - loss: 0.1655 - accuracy: 0.9236\n",
            "Epoch 569/600\n",
            "432/432 [==============================] - 0s 188us/step - loss: 0.1659 - accuracy: 0.9226\n",
            "Epoch 570/600\n",
            "432/432 [==============================] - 0s 172us/step - loss: 0.1669 - accuracy: 0.9213\n",
            "Epoch 571/600\n",
            "432/432 [==============================] - 0s 190us/step - loss: 0.1676 - accuracy: 0.9205\n",
            "Epoch 572/600\n",
            "432/432 [==============================] - 0s 181us/step - loss: 0.1653 - accuracy: 0.9224\n",
            "Epoch 573/600\n",
            "432/432 [==============================] - 0s 190us/step - loss: 0.1663 - accuracy: 0.9226\n",
            "Epoch 574/600\n",
            "432/432 [==============================] - 0s 191us/step - loss: 0.1686 - accuracy: 0.9215\n",
            "Epoch 575/600\n",
            "432/432 [==============================] - 0s 181us/step - loss: 0.1651 - accuracy: 0.9218\n",
            "Epoch 576/600\n",
            "432/432 [==============================] - 0s 218us/step - loss: 0.1664 - accuracy: 0.9208\n",
            "Epoch 577/600\n",
            "432/432 [==============================] - 0s 187us/step - loss: 0.1666 - accuracy: 0.9229\n",
            "Epoch 578/600\n",
            "432/432 [==============================] - 0s 193us/step - loss: 0.1668 - accuracy: 0.9220\n",
            "Epoch 579/600\n",
            "432/432 [==============================] - 0s 193us/step - loss: 0.1655 - accuracy: 0.9224\n",
            "Epoch 580/600\n",
            "432/432 [==============================] - 0s 183us/step - loss: 0.1659 - accuracy: 0.9205\n",
            "Epoch 581/600\n",
            "432/432 [==============================] - 0s 184us/step - loss: 0.1661 - accuracy: 0.9204\n",
            "Epoch 582/600\n",
            "432/432 [==============================] - 0s 180us/step - loss: 0.1665 - accuracy: 0.9194\n",
            "Epoch 583/600\n",
            "432/432 [==============================] - 0s 183us/step - loss: 0.1655 - accuracy: 0.9201\n",
            "Epoch 584/600\n",
            "432/432 [==============================] - 0s 179us/step - loss: 0.1674 - accuracy: 0.9207\n",
            "Epoch 585/600\n",
            "432/432 [==============================] - 0s 194us/step - loss: 0.1671 - accuracy: 0.9222\n",
            "Epoch 586/600\n",
            "432/432 [==============================] - 0s 187us/step - loss: 0.1670 - accuracy: 0.9201\n",
            "Epoch 587/600\n",
            "432/432 [==============================] - 0s 179us/step - loss: 0.1647 - accuracy: 0.9215\n",
            "Epoch 588/600\n",
            "432/432 [==============================] - 0s 197us/step - loss: 0.1666 - accuracy: 0.9188\n",
            "Epoch 589/600\n",
            "432/432 [==============================] - 0s 174us/step - loss: 0.1646 - accuracy: 0.9225\n",
            "Epoch 590/600\n",
            "432/432 [==============================] - 0s 189us/step - loss: 0.1669 - accuracy: 0.9216\n",
            "Epoch 591/600\n",
            "432/432 [==============================] - 0s 174us/step - loss: 0.1662 - accuracy: 0.9208\n",
            "Epoch 592/600\n",
            "432/432 [==============================] - 0s 176us/step - loss: 0.1689 - accuracy: 0.9201\n",
            "Epoch 593/600\n",
            "432/432 [==============================] - 0s 173us/step - loss: 0.1666 - accuracy: 0.9223\n",
            "Epoch 594/600\n",
            "432/432 [==============================] - 0s 181us/step - loss: 0.1673 - accuracy: 0.9203\n",
            "Epoch 595/600\n",
            "432/432 [==============================] - 0s 185us/step - loss: 0.1666 - accuracy: 0.9217\n",
            "Epoch 596/600\n",
            "432/432 [==============================] - 0s 178us/step - loss: 0.1664 - accuracy: 0.9213\n",
            "Epoch 597/600\n",
            "432/432 [==============================] - 0s 180us/step - loss: 0.1661 - accuracy: 0.9213\n",
            "Epoch 598/600\n",
            "432/432 [==============================] - 0s 181us/step - loss: 0.1667 - accuracy: 0.9206\n",
            "Epoch 599/600\n",
            "432/432 [==============================] - 0s 186us/step - loss: 0.1662 - accuracy: 0.9213\n",
            "Epoch 600/600\n",
            "432/432 [==============================] - 0s 205us/step - loss: 0.1665 - accuracy: 0.9212\n"
          ],
          "name": "stdout"
        }
      ]
    },
    {
      "cell_type": "code",
      "metadata": {
        "id": "nYTTlqZj-L9-",
        "colab_type": "code",
        "colab": {}
      },
      "source": [
        "file_path = F\"/content/gdrive/My Drive/model_600_mlp_continuous_36.h5\" "
      ],
      "execution_count": 0,
      "outputs": []
    },
    {
      "cell_type": "code",
      "metadata": {
        "id": "Fm_bwXhp-WO5",
        "colab_type": "code",
        "colab": {}
      },
      "source": [
        "feature_model.save(file_path)"
      ],
      "execution_count": 0,
      "outputs": []
    },
    {
      "cell_type": "code",
      "metadata": {
        "id": "dakg4qD5CnQt",
        "colab_type": "code",
        "colab": {}
      },
      "source": [
        "file_path = F\"/content/gdrive/My Drive/model_600_mlp_continuous.h5\" \n",
        "from keras.models import load_model\n",
        "loaded_model = load_model(file_path)"
      ],
      "execution_count": 0,
      "outputs": []
    },
    {
      "cell_type": "code",
      "metadata": {
        "id": "u3rDMCbJn8aP",
        "colab_type": "code",
        "outputId": "edd9658b-897d-42d4-c7ad-f4ce8cc4eef7",
        "colab": {
          "resources": {
            "http://localhost:8080/nbextensions/google.colab/files.js": {
              "data": "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",
              "ok": true,
              "headers": [
                [
                  "content-type",
                  "application/javascript"
                ]
              ],
              "status": 200,
              "status_text": ""
            }
          },
          "base_uri": "https://localhost:8080/",
          "height": 74
        }
      },
      "source": [
        "genre_idx = files.upload()"
      ],
      "execution_count": 7,
      "outputs": [
        {
          "output_type": "display_data",
          "data": {
            "text/html": [
              "\n",
              "     <input type=\"file\" id=\"files-fc57d655-a233-4e70-8323-7fdf47ca0c95\" name=\"files[]\" multiple disabled />\n",
              "     <output id=\"result-fc57d655-a233-4e70-8323-7fdf47ca0c95\">\n",
              "      Upload widget is only available when the cell has been executed in the\n",
              "      current browser session. Please rerun this cell to enable.\n",
              "      </output>\n",
              "      <script src=\"/nbextensions/google.colab/files.js\"></script> "
            ],
            "text/plain": [
              "<IPython.core.display.HTML object>"
            ]
          },
          "metadata": {
            "tags": []
          }
        },
        {
          "output_type": "stream",
          "text": [
            "Saving genre_idx.pickle to genre_idx.pickle\n"
          ],
          "name": "stdout"
        }
      ]
    },
    {
      "cell_type": "code",
      "metadata": {
        "id": "bOop-19On-Y4",
        "colab_type": "code",
        "colab": {}
      },
      "source": [
        "with open(\"genre_idx.pickle\", \"rb\") as f:\n",
        "  genre_idx = pickle.load(f)"
      ],
      "execution_count": 0,
      "outputs": []
    },
    {
      "cell_type": "code",
      "metadata": {
        "id": "EsVgmiS1oATv",
        "colab_type": "code",
        "outputId": "8ee1f30e-e9ec-4841-ec32-b5ef2edfb1e0",
        "colab": {
          "base_uri": "https://localhost:8080/",
          "height": 105
        }
      },
      "source": [
        "preds = loaded_model.predict(X)\n",
        "# preds[preds >= 0.25] = 1\n",
        "# preds[preds < 0.25] = 0\n",
        "genres = list(genre_idx.keys())\n",
        "sorted_pred = [x for _,x in sorted(zip(preds[14],genres), reverse = True)]\n",
        "print(sorted_pred)\n",
        "correct_gen = []\n",
        "for i in range(len(y[0])):\n",
        "  if y[14][i] == 1:\n",
        "    correct_gen.append(genres[i])\n",
        "print(correct_gen)\n",
        "print(preds[10])\n",
        "print(preds[14])"
      ],
      "execution_count": 0,
      "outputs": [
        {
          "output_type": "stream",
          "text": [
            "['thriller', 'mystery', 'history', 'drama', 'crime', 'western', 'war', 'sport', 'short', 'scifi', 'romance', 'musical', 'music', 'horror', 'filmnoir', 'fantasy', 'family', 'documentary', 'comedy', 'biography', 'animation', 'adventure', 'adult', 'action']\n",
            "['action', 'western']\n",
            "[0. 0. 0. 0. 0. 0. 1. 0. 1. 0. 0. 0. 1. 0. 0. 0. 1. 0. 0. 0. 0. 1. 0. 0.]\n",
            "[0. 0. 0. 0. 0. 0. 1. 0. 1. 0. 0. 0. 1. 0. 0. 0. 1. 0. 0. 0. 0. 1. 0. 0.]\n"
          ],
          "name": "stdout"
        }
      ]
    },
    {
      "cell_type": "code",
      "metadata": {
        "id": "g4sYxJfip2Pl",
        "colab_type": "code",
        "outputId": "944e007f-0eb2-4cca-c819-4bd11e345a0a",
        "colab": {
          "base_uri": "https://localhost:8080/",
          "height": 238
        }
      },
      "source": [
        "load_preds = loaded_model.predict(X)\n",
        "train_preds = load_preds\n",
        "genres = list(genre_idx.keys())\n",
        "num = 12\n",
        "print(load_preds[num])\n",
        "\n",
        "load_preds[load_preds >= 0.50] = 1\n",
        "load_preds[load_preds < 0.50] = 0\n",
        "print(\"Predict:\", load_preds[num])\n",
        "print(\"Answers:\", y[num])\n",
        "\n",
        "score = np.subtract(y[num], load_preds[num])\n",
        "score = np.linalg.norm(score)\n",
        "print(\"Score:\", score)\n",
        "\n",
        "predicted = []\n",
        "correct_gen = []\n",
        "for i in range(len(y[0])):\n",
        "  if y[num][i] == 1:\n",
        "    correct_gen.append(genres[i])\n",
        "  if load_preds[num][i] == 1:\n",
        "    predicted.append(genres[i])\n",
        "print(\"Predict:\", predicted)\n",
        "print(\"Answers:\", correct_gen)\n",
        "\n",
        "sum_score = 0\n",
        "num_wrong = 0\n",
        "for i in range(len(load_preds)):\n",
        "  score = np.subtract(y[i], load_preds[i])\n",
        "  score = np.linalg.norm(score)\n",
        "  if score != 0:\n",
        "    num_wrong += 1\n",
        "  sum_score += score\n",
        "total_score = sum_score / len(load_preds)\n",
        "print(\"Avg Score:\", total_score)\n",
        "print(\"Wrong:\", num_wrong)"
      ],
      "execution_count": 108,
      "outputs": [
        {
          "output_type": "stream",
          "text": [
            "[1.69610594e-05 1.89513378e-16 5.05377930e-15 3.57493454e-34\n",
            " 9.98679638e-01 7.77681407e-07 3.67969275e-04 3.86019258e-35\n",
            " 9.99837995e-01 4.95895314e-26 1.12775624e-07 4.41841178e-35\n",
            " 3.09473857e-23 3.87579203e-04 9.98735487e-01 5.39924763e-24\n",
            " 2.45561232e-12 1.13699035e-13 1.36584211e-08 1.92727589e-33\n",
            " 3.03081172e-36 1.04994955e-08 8.43213043e-23 1.18540136e-24]\n",
            "Predict: [0. 0. 0. 0. 1. 0. 0. 0. 1. 0. 0. 0. 0. 0. 1. 0. 0. 0. 0. 0. 0. 0. 0. 0.]\n",
            "Answers: [0. 0. 0. 0. 1. 0. 0. 0. 1. 0. 0. 0. 0. 0. 1. 0. 0. 0. 0. 0. 0. 0. 0. 0.]\n",
            "Score: 0.0\n",
            "Predict: ['biography', 'drama', 'music']\n",
            "Answers: ['biography', 'drama', 'music']\n",
            "Avg Score: 0.5032477869283318\n",
            "Wrong: 166\n"
          ],
          "name": "stdout"
        }
      ]
    },
    {
      "cell_type": "code",
      "metadata": {
        "id": "e-VhFW9JoE7s",
        "colab_type": "code",
        "outputId": "9ee9441d-4292-4f5c-99a0-f8ba5adfaca5",
        "colab": {
          "base_uri": "https://localhost:8080/",
          "height": 758
        }
      },
      "source": [
        "from keras.utils import plot_model\n",
        "plot_model(feature_model, to_file='model.png')"
      ],
      "execution_count": 0,
      "outputs": [
        {
          "output_type": "execute_result",
          "data": {
            "image/png": "[encoded data removed]",
            "text/plain": [
              "<IPython.core.display.Image object>"
            ]
          },
          "metadata": {
            "tags": []
          },
          "execution_count": 27
        }
      ]
    },
    {
      "cell_type": "code",
      "metadata": {
        "id": "HdMjxPc1oFjF",
        "colab_type": "code",
        "outputId": "34b4e6e9-5c0d-4b0a-c8d6-0e1aca86fada",
        "colab": {
          "base_uri": "https://localhost:8080/",
          "height": 295
        }
      },
      "source": [
        "# Plot training & validation loss values\n",
        "plt.plot(feature_history.history['loss'])\n",
        "plt.title('Model loss')\n",
        "plt.ylabel('Loss')\n",
        "plt.xlabel('Epoch')\n",
        "plt.legend(['Train', 'Test'], loc='upper left')\n",
        "plt.show()"
      ],
      "execution_count": 0,
      "outputs": [
        {
          "output_type": "display_data",
          "data": {
            "image/png": "[encoded data removed]",
            "text/plain": [
              "<Figure size 432x288 with 1 Axes>"
            ]
          },
          "metadata": {
            "tags": [],
            "needs_background": "light"
          }
        }
      ]
    },
    {
      "cell_type": "code",
      "metadata": {
        "id": "Og2ysrDErWIs",
        "colab_type": "code",
        "outputId": "1acfdb9d-8cea-48bf-fb13-f1b86be7b003",
        "colab": {
          "base_uri": "https://localhost:8080/",
          "height": 281
        }
      },
      "source": [
        "plt.title('Accuracy')\n",
        "plt.plot(feature_history.history['accuracy'], label='train')\n",
        "plt.legend()\n",
        "plt.show()"
      ],
      "execution_count": 0,
      "outputs": [
        {
          "output_type": "display_data",
          "data": {
            "image/png": "[encoded data removed]",
            "text/plain": [
              "<Figure size 432x288 with 1 Axes>"
            ]
          },
          "metadata": {
            "tags": [],
            "needs_background": "light"
          }
        }
      ]
    },
    {
      "cell_type": "code",
      "metadata": {
        "id": "EI9U0plmuALR",
        "colab_type": "code",
        "outputId": "32883cbe-3fa7-47cc-8518-636d8ee14e23",
        "colab": {
          "base_uri": "https://localhost:8080/",
          "height": 1000
        }
      },
      "source": [
        "confusion_mat = multilabel_confusion_matrix(y_test, test_preds)\n",
        "print(confusion_mat.shape)\n",
        "print(confusion_mat)\n",
        "# plot_x = confusion_mat.transpose((0,1,2)).ravel()\n",
        "# plot_y = confusion_mat.transpose((1,2,0)).ravel()\n",
        "# plot_z = confusion_mat.transpose((2,0,1)).ravel()\n",
        "# print(plot_x.shape)"
      ],
      "execution_count": 114,
      "outputs": [
        {
          "output_type": "stream",
          "text": [
            "(24, 2, 2)\n",
            "[[[112  20]\n",
            "  [ 44   9]]\n",
            "\n",
            " [[185   0]\n",
            "  [  0   0]]\n",
            "\n",
            " [[146   0]\n",
            "  [ 39   0]]\n",
            "\n",
            " [[179   0]\n",
            "  [  6   0]]\n",
            "\n",
            " [[174   3]\n",
            "  [  8   0]]\n",
            "\n",
            " [[136   0]\n",
            "  [ 49   0]]\n",
            "\n",
            " [[ 78  79]\n",
            "  [  7  21]]\n",
            "\n",
            " [[184   0]\n",
            "  [  1   0]]\n",
            "\n",
            " [[  0  98]\n",
            "  [  0  87]]\n",
            "\n",
            " [[181   0]\n",
            "  [  4   0]]\n",
            "\n",
            " [[165   0]\n",
            "  [ 20   0]]\n",
            "\n",
            " [[184   0]\n",
            "  [  1   0]]\n",
            "\n",
            " [[175   2]\n",
            "  [  8   0]]\n",
            "\n",
            " [[160   0]\n",
            "  [ 25   0]]\n",
            "\n",
            " [[182   0]\n",
            "  [  3   0]]\n",
            "\n",
            " [[184   0]\n",
            "  [  1   0]]\n",
            "\n",
            " [[105  58]\n",
            "  [ 14   8]]\n",
            "\n",
            " [[144   0]\n",
            "  [ 41   0]]\n",
            "\n",
            " [[145   0]\n",
            "  [ 40   0]]\n",
            "\n",
            " [[182   0]\n",
            "  [  3   0]]\n",
            "\n",
            " [[183   0]\n",
            "  [  2   0]]\n",
            "\n",
            " [[ 57  52]\n",
            "  [ 27  49]]\n",
            "\n",
            " [[179   0]\n",
            "  [  6   0]]\n",
            "\n",
            " [[159  21]\n",
            "  [  3   2]]]\n"
          ],
          "name": "stdout"
        }
      ]
    },
    {
      "cell_type": "code",
      "metadata": {
        "id": "56KVzioChVB4",
        "colab_type": "code",
        "colab": {
          "base_uri": "https://localhost:8080/",
          "height": 1000
        },
        "outputId": "6333bc44-4545-46b5-99aa-7be5f9b93eea"
      },
      "source": [
        "for mat in confusion_mat:\n",
        "  plt.imshow(mat, cmap='viridis', interpolation='nearest')\n",
        "  plt.show()"
      ],
      "execution_count": 94,
      "outputs": [
        {
          "output_type": "display_data",
          "data": {
            "image/png": "[encoded data removed]",
            "text/plain": [
              "<Figure size 432x288 with 1 Axes>"
            ]
          },
          "metadata": {
            "tags": [],
            "needs_background": "light"
          }
        },
        {
          "output_type": "display_data",
          "data": {
            "image/png": "[encoded data removed]",
            "text/plain": [
              "<Figure size 432x288 with 1 Axes>"
            ]
          },
          "metadata": {
            "tags": [],
            "needs_background": "light"
          }
        },
        {
          "output_type": "display_data",
          "data": {
            "image/png": "[encoded data removed]",
            "text/plain": [
              "<Figure size 432x288 with 1 Axes>"
            ]
          },
          "metadata": {
            "tags": [],
            "needs_background": "light"
          }
        },
        {
          "output_type": "display_data",
          "data": {
            "image/png": "[encoded data removed]",
            "text/plain": [
              "<Figure size 432x288 with 1 Axes>"
            ]
          },
          "metadata": {
            "tags": [],
            "needs_background": "light"
          }
        },
        {
          "output_type": "display_data",
          "data": {
            "image/png": "[encoded data removed]",
            "text/plain": [
              "<Figure size 432x288 with 1 Axes>"
            ]
          },
          "metadata": {
            "tags": [],
            "needs_background": "light"
          }
        },
        {
          "output_type": "display_data",
          "data": {
            "image/png": "[encoded data removed]",
            "text/plain": [
              "<Figure size 432x288 with 1 Axes>"
            ]
          },
          "metadata": {
            "tags": [],
            "needs_background": "light"
          }
        },
        {
          "output_type": "display_data",
          "data": {
            "image/png": "[encoded data removed]",
            "text/plain": [
              "<Figure size 432x288 with 1 Axes>"
            ]
          },
          "metadata": {
            "tags": [],
            "needs_background": "light"
          }
        },
        {
          "output_type": "display_data",
          "data": {
            "image/png": "[encoded data removed]",
            "text/plain": [
              "<Figure size 432x288 with 1 Axes>"
            ]
          },
          "metadata": {
            "tags": [],
            "needs_background": "light"
          }
        },
        {
          "output_type": "display_data",
          "data": {
            "image/png": "[encoded data removed]",
            "text/plain": [
              "<Figure size 432x288 with 1 Axes>"
            ]
          },
          "metadata": {
            "tags": [],
            "needs_background": "light"
          }
        },
        {
          "output_type": "display_data",
          "data": {
            "image/png": "[encoded data removed]",
            "text/plain": [
              "<Figure size 432x288 with 1 Axes>"
            ]
          },
          "metadata": {
            "tags": [],
            "needs_background": "light"
          }
        },
        {
          "output_type": "display_data",
          "data": {
            "image/png": "[encoded data removed]",
            "text/plain": [
              "<Figure size 432x288 with 1 Axes>"
            ]
          },
          "metadata": {
            "tags": [],
            "needs_background": "light"
          }
        },
        {
          "output_type": "display_data",
          "data": {
            "image/png": "[encoded data removed]",
            "text/plain": [
              "<Figure size 432x288 with 1 Axes>"
            ]
          },
          "metadata": {
            "tags": [],
            "needs_background": "light"
          }
        },
        {
          "output_type": "display_data",
          "data": {
            "image/png": "[encoded data removed]",
            "text/plain": [
              "<Figure size 432x288 with 1 Axes>"
            ]
          },
          "metadata": {
            "tags": [],
            "needs_background": "light"
          }
        },
        {
          "output_type": "display_data",
          "data": {
            "image/png": "[encoded data removed]",
            "text/plain": [
              "<Figure size 432x288 with 1 Axes>"
            ]
          },
          "metadata": {
            "tags": [],
            "needs_background": "light"
          }
        },
        {
          "output_type": "display_data",
          "data": {
            "image/png": "[encoded data removed]",
            "text/plain": [
              "<Figure size 432x288 with 1 Axes>"
            ]
          },
          "metadata": {
            "tags": [],
            "needs_background": "light"
          }
        },
        {
          "output_type": "display_data",
          "data": {
            "image/png": "[encoded data removed]",
            "text/plain": [
              "<Figure size 432x288 with 1 Axes>"
            ]
          },
          "metadata": {
            "tags": [],
            "needs_background": "light"
          }
        },
        {
          "output_type": "display_data",
          "data": {
            "image/png": "[encoded data removed]",
            "text/plain": [
              "<Figure size 432x288 with 1 Axes>"
            ]
          },
          "metadata": {
            "tags": [],
            "needs_background": "light"
          }
        },
        {
          "output_type": "display_data",
          "data": {
            "image/png": "[encoded data removed]",
            "text/plain": [
              "<Figure size 432x288 with 1 Axes>"
            ]
          },
          "metadata": {
            "tags": [],
            "needs_background": "light"
          }
        },
        {
          "output_type": "display_data",
          "data": {
            "image/png": "[encoded data removed]",
            "text/plain": [
              "<Figure size 432x288 with 1 Axes>"
            ]
          },
          "metadata": {
            "tags": [],
            "needs_background": "light"
          }
        },
        {
          "output_type": "display_data",
          "data": {
            "image/png": "[encoded data removed]",
            "text/plain": [
              "<Figure size 432x288 with 1 Axes>"
            ]
          },
          "metadata": {
            "tags": [],
            "needs_background": "light"
          }
        },
        {
          "output_type": "display_data",
          "data": {
            "image/png": "[encoded data removed]",
            "text/plain": [
              "<Figure size 432x288 with 1 Axes>"
            ]
          },
          "metadata": {
            "tags": [],
            "needs_background": "light"
          }
        },
        {
          "output_type": "display_data",
          "data": {
            "image/png": "[encoded data removed]",
            "text/plain": [
              "<Figure size 432x288 with 1 Axes>"
            ]
          },
          "metadata": {
            "tags": [],
            "needs_background": "light"
          }
        },
        {
          "output_type": "display_data",
          "data": {
            "image/png": "[encoded data removed]",
            "text/plain": [
              "<Figure size 432x288 with 1 Axes>"
            ]
          },
          "metadata": {
            "tags": [],
            "needs_background": "light"
          }
        },
        {
          "output_type": "display_data",
          "data": {
            "image/png": "[encoded data removed]",
            "text/plain": [
              "<Figure size 432x288 with 1 Axes>"
            ]
          },
          "metadata": {
            "tags": [],
            "needs_background": "light"
          }
        }
      ]
    },
    {
      "cell_type": "code",
      "metadata": {
        "id": "bBeQdFQVkcpG",
        "colab_type": "code",
        "colab": {
          "base_uri": "https://localhost:8080/",
          "height": 282
        },
        "outputId": "5b844884-20b8-4775-98c7-0686e5347cde"
      },
      "source": [
        "import seaborn as sn\n",
        "mat = confusion_mat[16]\n",
        "cm_df = df(mat, index = ['NO', 'YES'], columns = ['NO', 'YES'])\n",
        "sn.heatmap(cm_df, annot = True)"
      ],
      "execution_count": 157,
      "outputs": [
        {
          "output_type": "execute_result",
          "data": {
            "text/plain": [
              "<matplotlib.axes._subplots.AxesSubplot at 0x7ff4b9d3f748>"
            ]
          },
          "metadata": {
            "tags": []
          },
          "execution_count": 157
        },
        {
          "output_type": "display_data",
          "data": {
            "image/png": "[encoded data removed]",
            "text/plain": [
              "<Figure size 432x288 with 2 Axes>"
            ]
          },
          "metadata": {
            "tags": [],
            "needs_background": "light"
          }
        }
      ]
    },
    {
      "cell_type": "code",
      "metadata": {
        "id": "82LJk4h9md2y",
        "colab_type": "code",
        "colab": {
          "base_uri": "https://localhost:8080/",
          "height": 338
        },
        "outputId": "0d2d9346-97b6-4232-8d46-a1e4f9a6eae5"
      },
      "source": [
        "print(genre_idx)\n",
        "num_gen = 0\n",
        "vec = []\n",
        "for i, p in enumerate(y_test):\n",
        "  if p[21] == 0 and test_preds[i][21] == 1:\n",
        "    num_gen += 1\n",
        "    vec.append(np.array(X_test[i]))\n",
        "    # vec = np.reshape(X_test[i], (1, 7))\n",
        "vec = np.asarray(vec)\n",
        "print(vec.shape)\n",
        "# vec = np.reshape(num_gen, 7)\n",
        "plt.imshow(vec, cmap='hot', interpolation='nearest', aspect = 'auto')\n",
        "plt.colorbar()\n",
        "plt.show()\n",
        "print(num_gen)"
      ],
      "execution_count": 156,
      "outputs": [
        {
          "output_type": "stream",
          "text": [
            "{'action': 0, 'adult': 1, 'adventure': 2, 'animation': 3, 'biography': 4, 'comedy': 5, 'crime': 6, 'documentary': 7, 'drama': 8, 'family': 9, 'fantasy': 10, 'filmnoir': 11, 'history': 12, 'horror': 13, 'music': 14, 'musical': 15, 'mystery': 16, 'romance': 17, 'scifi': 18, 'short': 19, 'sport': 20, 'thriller': 21, 'war': 22, 'western': 23}\n",
            "(52, 7)\n"
          ],
          "name": "stdout"
        },
        {
          "output_type": "display_data",
          "data": {
            "image/png": "[encoded data removed]",
            "text/plain": [
              "<Figure size 432x288 with 2 Axes>"
            ]
          },
          "metadata": {
            "tags": [],
            "needs_background": "light"
          }
        },
        {
          "output_type": "stream",
          "text": [
            "52\n"
          ],
          "name": "stdout"
        }
      ]
    },
    {
      "cell_type": "code",
      "metadata": {
        "id": "S-HMFQF8oKH2",
        "colab_type": "code",
        "outputId": "6df6cd9f-b0dd-4fcb-80b9-b07465a30dfc",
        "colab": {
          "resources": {
            "http://localhost:8080/nbextensions/google.colab/files.js": {
              "data": "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",
              "ok": true,
              "headers": [
                [
                  "content-type",
                  "application/javascript"
                ]
              ],
              "status": 200,
              "status_text": ""
            }
          },
          "base_uri": "https://localhost:8080/",
          "height": 131
        }
      },
      "source": [
        "test_script = files.upload()\n",
        "test_labels = files.upload()"
      ],
      "execution_count": 72,
      "outputs": [
        {
          "output_type": "display_data",
          "data": {
            "text/html": [
              "\n",
              "     <input type=\"file\" id=\"files-1a9e5aaa-eb81-4b5a-bb5c-ae6a1174ccc2\" name=\"files[]\" multiple disabled />\n",
              "     <output id=\"result-1a9e5aaa-eb81-4b5a-bb5c-ae6a1174ccc2\">\n",
              "      Upload widget is only available when the cell has been executed in the\n",
              "      current browser session. Please rerun this cell to enable.\n",
              "      </output>\n",
              "      <script src=\"/nbextensions/google.colab/files.js\"></script> "
            ],
            "text/plain": [
              "<IPython.core.display.HTML object>"
            ]
          },
          "metadata": {
            "tags": []
          }
        },
        {
          "output_type": "stream",
          "text": [
            "Saving test_features_continuous.npy to test_features_continuous.npy\n"
          ],
          "name": "stdout"
        },
        {
          "output_type": "display_data",
          "data": {
            "text/html": [
              "\n",
              "     <input type=\"file\" id=\"files-7f263788-dc77-45f3-8fcb-6c164fe855b0\" name=\"files[]\" multiple disabled />\n",
              "     <output id=\"result-7f263788-dc77-45f3-8fcb-6c164fe855b0\">\n",
              "      Upload widget is only available when the cell has been executed in the\n",
              "      current browser session. Please rerun this cell to enable.\n",
              "      </output>\n",
              "      <script src=\"/nbextensions/google.colab/files.js\"></script> "
            ],
            "text/plain": [
              "<IPython.core.display.HTML object>"
            ]
          },
          "metadata": {
            "tags": []
          }
        },
        {
          "output_type": "stream",
          "text": [
            "Saving test_labels.npy to test_labels (3).npy\n"
          ],
          "name": "stdout"
        }
      ]
    },
    {
      "cell_type": "code",
      "metadata": {
        "id": "stcJNI__vcdQ",
        "colab_type": "code",
        "colab": {}
      },
      "source": [
        "X_test = np.load(\"test_features_continuous.npy\")\n",
        "X_test = np.delete(X_test, 0, axis = 1)\n",
        "y_test = np.load(\"test_labels.npy\")"
      ],
      "execution_count": 0,
      "outputs": []
    },
    {
      "cell_type": "code",
      "metadata": {
        "id": "BnaXB8RnF8hm",
        "colab_type": "code",
        "colab": {
          "base_uri": "https://localhost:8080/",
          "height": 238
        },
        "outputId": "e3c32060-5c3c-4d06-fff7-358537a563b0"
      },
      "source": [
        "print(X_test)"
      ],
      "execution_count": 74,
      "outputs": [
        {
          "output_type": "stream",
          "text": [
            "[[2.22634508e-01 1.41307623e-01 2.10906900e-02 ... 6.00000000e+00\n",
            "  8.00000000e+00 1.40000000e+01]\n",
            " [3.45826235e-01 1.24571127e-01 1.55713909e-02 ... 2.00000000e+00\n",
            "  2.70000000e+01 1.30000000e+01]\n",
            " [2.08333333e-01 1.27342515e-01 1.42244299e-02 ... 4.00000000e+00\n",
            "  3.10000000e+01 2.30000000e+01]\n",
            " ...\n",
            " [9.09090909e-02 1.48936170e-01 4.25531915e-02 ... 0.00000000e+00\n",
            "  0.00000000e+00 2.00000000e+00]\n",
            " [2.36467236e-01 1.42476698e-01 1.98254180e-02 ... 1.00000000e+00\n",
            "  2.10000000e+01 1.50000000e+01]\n",
            " [3.07298335e-01 1.22152747e-01 2.00982582e-02 ... 2.00000000e+00\n",
            "  1.70000000e+01 9.00000000e+00]]\n"
          ],
          "name": "stdout"
        }
      ]
    },
    {
      "cell_type": "code",
      "metadata": {
        "id": "7cng-yKrvyQD",
        "colab_type": "code",
        "outputId": "10720007-85bc-4173-e50e-77f5ad545b5f",
        "colab": {
          "base_uri": "https://localhost:8080/",
          "height": 221
        }
      },
      "source": [
        "load_preds = feature_model.predict(X_test)\n",
        "test_preds = load_preds\n",
        "genres = list(genre_idx.keys())\n",
        "num = 12\n",
        "print(load_preds[num])\n",
        "\n",
        "load_preds[load_preds >= 0.50] = 1\n",
        "load_preds[load_preds < 0.50] = 0\n",
        "print(\"Predict:\", load_preds[num])\n",
        "print(\"Answers:\", y_test[num])\n",
        "\n",
        "score = np.subtract(y_test[num], load_preds[num])\n",
        "score = np.linalg.norm(score)\n",
        "print(\"Score:\", score)\n",
        "\n",
        "predicted = []\n",
        "correct_gen = []\n",
        "for i in range(len(y_test[0])):\n",
        "  if y_test[num][i] == 1:\n",
        "    correct_gen.append(genres[i])\n",
        "  if load_preds[num][i] == 1:\n",
        "    predicted.append(genres[i])\n",
        "print(\"Predict:\", predicted)\n",
        "print(\"Answers:\", correct_gen)\n",
        "\n",
        "sum_score = 0\n",
        "num_wrong = 0\n",
        "for i in range(len(load_preds)):\n",
        "  score = np.subtract(y_test[i], load_preds[i])\n",
        "  score = np.linalg.norm(score)\n",
        "  if score != 0:\n",
        "    num_wrong += 1\n",
        "  sum_score += score\n",
        "total_score = sum_score / len(load_preds)\n",
        "print(\"Avg Score:\", total_score)\n",
        "print(\"Wrong:\", num_wrong)"
      ],
      "execution_count": 109,
      "outputs": [
        {
          "output_type": "stream",
          "text": [
            "[0.0000000e+00 0.0000000e+00 0.0000000e+00 0.0000000e+00 0.0000000e+00\n",
            " 0.0000000e+00 3.9710458e-28 0.0000000e+00 1.0000000e+00 0.0000000e+00\n",
            " 0.0000000e+00 0.0000000e+00 0.0000000e+00 8.5726919e-24 0.0000000e+00\n",
            " 0.0000000e+00 1.0000000e+00 1.1166001e-27 0.0000000e+00 0.0000000e+00\n",
            " 0.0000000e+00 3.0315932e-24 0.0000000e+00 8.1036615e-01]\n",
            "Predict: [0. 0. 0. 0. 0. 0. 0. 0. 1. 0. 0. 0. 0. 0. 0. 0. 1. 0. 0. 0. 0. 0. 0. 1.]\n",
            "Answers: [1. 0. 0. 0. 0. 0. 1. 0. 1. 0. 0. 0. 0. 1. 0. 0. 0. 0. 1. 0. 0. 1. 0. 0.]\n",
            "Score: 2.6457513110645907\n",
            "Predict: ['drama', 'mystery', 'western']\n",
            "Answers: ['action', 'crime', 'drama', 'horror', 'scifi', 'thriller']\n",
            "Avg Score: 1.8538114457956303\n",
            "Wrong: 180\n"
          ],
          "name": "stdout"
        }
      ]
    },
    {
      "cell_type": "code",
      "metadata": {
        "id": "OubiNSbHwQQh",
        "colab_type": "code",
        "outputId": "4913ebf2-f647-4bb4-f70e-f44e3d0c5f59",
        "colab": {
          "base_uri": "https://localhost:8080/",
          "height": 51
        }
      },
      "source": [
        "f1_micro = f1_score(y_test, load_preds, average = 'micro')\n",
        "f1_macro = f1_score(y_test, load_preds, average = 'macro', zero_division = 1)\n",
        "print(\"Micro:\", f1_micro)\n",
        "print(\"Macro:\", f1_macro)"
      ],
      "execution_count": 76,
      "outputs": [
        {
          "output_type": "stream",
          "text": [
            "Micro: 0.3394406943105111\n",
            "Macro: 0.12773711327226658\n"
          ],
          "name": "stdout"
        }
      ]
    },
    {
      "cell_type": "code",
      "metadata": {
        "id": "MylzxodywY1L",
        "colab_type": "code",
        "colab": {
          "base_uri": "https://localhost:8080/",
          "height": 357
        },
        "outputId": "2a807f64-8e68-44ed-c463-c600470dd32a"
      },
      "source": [
        "## MAKE SURE LOAD_PREDS USED X NOT X_TEST BEFORE RUNNING THIS CELL\n",
        "f1_micro = f1_score(y, load_preds, average = 'micro')\n",
        "f1_macro = f1_score(y, load_preds, average = 'macro', zero_division = 1)\n",
        "print(\"Micro:\", f1_micro)\n",
        "print(\"Macro:\", f1_macro)"
      ],
      "execution_count": 61,
      "outputs": [
        {
          "output_type": "error",
          "ename": "ValueError",
          "evalue": "ignored",
          "traceback": [
            "\u001b[0;31m---------------------------------------------------------------------------\u001b[0m",
            "\u001b[0;31mValueError\u001b[0m                                Traceback (most recent call last)",
            "\u001b[0;32m<ipython-input-61-ed6fb3dd769a>\u001b[0m in \u001b[0;36m<module>\u001b[0;34m()\u001b[0m\n\u001b[0;32m----> 1\u001b[0;31m \u001b[0mf1_micro\u001b[0m \u001b[0;34m=\u001b[0m \u001b[0mf1_score\u001b[0m\u001b[0;34m(\u001b[0m\u001b[0my\u001b[0m\u001b[0;34m,\u001b[0m \u001b[0mload_preds\u001b[0m\u001b[0;34m,\u001b[0m \u001b[0maverage\u001b[0m \u001b[0;34m=\u001b[0m \u001b[0;34m'micro'\u001b[0m\u001b[0;34m)\u001b[0m\u001b[0;34m\u001b[0m\u001b[0;34m\u001b[0m\u001b[0m\n\u001b[0m\u001b[1;32m      2\u001b[0m \u001b[0mf1_macro\u001b[0m \u001b[0;34m=\u001b[0m \u001b[0mf1_score\u001b[0m\u001b[0;34m(\u001b[0m\u001b[0my\u001b[0m\u001b[0;34m,\u001b[0m \u001b[0mload_preds\u001b[0m\u001b[0;34m,\u001b[0m \u001b[0maverage\u001b[0m \u001b[0;34m=\u001b[0m \u001b[0;34m'macro'\u001b[0m\u001b[0;34m,\u001b[0m \u001b[0mzero_division\u001b[0m \u001b[0;34m=\u001b[0m \u001b[0;36m1\u001b[0m\u001b[0;34m)\u001b[0m\u001b[0;34m\u001b[0m\u001b[0;34m\u001b[0m\u001b[0m\n\u001b[1;32m      3\u001b[0m \u001b[0mprint\u001b[0m\u001b[0;34m(\u001b[0m\u001b[0;34m\"Micro:\"\u001b[0m\u001b[0;34m,\u001b[0m \u001b[0mf1_micro\u001b[0m\u001b[0;34m)\u001b[0m\u001b[0;34m\u001b[0m\u001b[0;34m\u001b[0m\u001b[0m\n\u001b[1;32m      4\u001b[0m \u001b[0mprint\u001b[0m\u001b[0;34m(\u001b[0m\u001b[0;34m\"Macro:\"\u001b[0m\u001b[0;34m,\u001b[0m \u001b[0mf1_macro\u001b[0m\u001b[0;34m)\u001b[0m\u001b[0;34m\u001b[0m\u001b[0;34m\u001b[0m\u001b[0m\n",
            "\u001b[0;32m/usr/local/lib/python3.6/dist-packages/sklearn/metrics/_classification.py\u001b[0m in \u001b[0;36mf1_score\u001b[0;34m(y_true, y_pred, labels, pos_label, average, sample_weight, zero_division)\u001b[0m\n\u001b[1;32m   1097\u001b[0m                        \u001b[0mpos_label\u001b[0m\u001b[0;34m=\u001b[0m\u001b[0mpos_label\u001b[0m\u001b[0;34m,\u001b[0m \u001b[0maverage\u001b[0m\u001b[0;34m=\u001b[0m\u001b[0maverage\u001b[0m\u001b[0;34m,\u001b[0m\u001b[0;34m\u001b[0m\u001b[0;34m\u001b[0m\u001b[0m\n\u001b[1;32m   1098\u001b[0m                        \u001b[0msample_weight\u001b[0m\u001b[0;34m=\u001b[0m\u001b[0msample_weight\u001b[0m\u001b[0;34m,\u001b[0m\u001b[0;34m\u001b[0m\u001b[0;34m\u001b[0m\u001b[0m\n\u001b[0;32m-> 1099\u001b[0;31m                        zero_division=zero_division)\n\u001b[0m\u001b[1;32m   1100\u001b[0m \u001b[0;34m\u001b[0m\u001b[0m\n\u001b[1;32m   1101\u001b[0m \u001b[0;34m\u001b[0m\u001b[0m\n",
            "\u001b[0;32m/usr/local/lib/python3.6/dist-packages/sklearn/metrics/_classification.py\u001b[0m in \u001b[0;36mfbeta_score\u001b[0;34m(y_true, y_pred, beta, labels, pos_label, average, sample_weight, zero_division)\u001b[0m\n\u001b[1;32m   1224\u001b[0m                                                  \u001b[0mwarn_for\u001b[0m\u001b[0;34m=\u001b[0m\u001b[0;34m(\u001b[0m\u001b[0;34m'f-score'\u001b[0m\u001b[0;34m,\u001b[0m\u001b[0;34m)\u001b[0m\u001b[0;34m,\u001b[0m\u001b[0;34m\u001b[0m\u001b[0;34m\u001b[0m\u001b[0m\n\u001b[1;32m   1225\u001b[0m                                                  \u001b[0msample_weight\u001b[0m\u001b[0;34m=\u001b[0m\u001b[0msample_weight\u001b[0m\u001b[0;34m,\u001b[0m\u001b[0;34m\u001b[0m\u001b[0;34m\u001b[0m\u001b[0m\n\u001b[0;32m-> 1226\u001b[0;31m                                                  zero_division=zero_division)\n\u001b[0m\u001b[1;32m   1227\u001b[0m     \u001b[0;32mreturn\u001b[0m \u001b[0mf\u001b[0m\u001b[0;34m\u001b[0m\u001b[0;34m\u001b[0m\u001b[0m\n\u001b[1;32m   1228\u001b[0m \u001b[0;34m\u001b[0m\u001b[0m\n",
            "\u001b[0;32m/usr/local/lib/python3.6/dist-packages/sklearn/metrics/_classification.py\u001b[0m in \u001b[0;36mprecision_recall_fscore_support\u001b[0;34m(y_true, y_pred, beta, labels, pos_label, average, warn_for, sample_weight, zero_division)\u001b[0m\n\u001b[1;32m   1482\u001b[0m         \u001b[0;32mraise\u001b[0m \u001b[0mValueError\u001b[0m\u001b[0;34m(\u001b[0m\u001b[0;34m\"beta should be >=0 in the F-beta score\"\u001b[0m\u001b[0;34m)\u001b[0m\u001b[0;34m\u001b[0m\u001b[0;34m\u001b[0m\u001b[0m\n\u001b[1;32m   1483\u001b[0m     labels = _check_set_wise_labels(y_true, y_pred, average, labels,\n\u001b[0;32m-> 1484\u001b[0;31m                                     pos_label)\n\u001b[0m\u001b[1;32m   1485\u001b[0m \u001b[0;34m\u001b[0m\u001b[0m\n\u001b[1;32m   1486\u001b[0m     \u001b[0;31m# Calculate tp_sum, pred_sum, true_sum ###\u001b[0m\u001b[0;34m\u001b[0m\u001b[0;34m\u001b[0m\u001b[0;34m\u001b[0m\u001b[0m\n",
            "\u001b[0;32m/usr/local/lib/python3.6/dist-packages/sklearn/metrics/_classification.py\u001b[0m in \u001b[0;36m_check_set_wise_labels\u001b[0;34m(y_true, y_pred, average, labels, pos_label)\u001b[0m\n\u001b[1;32m   1299\u001b[0m                          str(average_options))\n\u001b[1;32m   1300\u001b[0m \u001b[0;34m\u001b[0m\u001b[0m\n\u001b[0;32m-> 1301\u001b[0;31m     \u001b[0my_type\u001b[0m\u001b[0;34m,\u001b[0m \u001b[0my_true\u001b[0m\u001b[0;34m,\u001b[0m \u001b[0my_pred\u001b[0m \u001b[0;34m=\u001b[0m \u001b[0m_check_targets\u001b[0m\u001b[0;34m(\u001b[0m\u001b[0my_true\u001b[0m\u001b[0;34m,\u001b[0m \u001b[0my_pred\u001b[0m\u001b[0;34m)\u001b[0m\u001b[0;34m\u001b[0m\u001b[0;34m\u001b[0m\u001b[0m\n\u001b[0m\u001b[1;32m   1302\u001b[0m     \u001b[0mpresent_labels\u001b[0m \u001b[0;34m=\u001b[0m \u001b[0munique_labels\u001b[0m\u001b[0;34m(\u001b[0m\u001b[0my_true\u001b[0m\u001b[0;34m,\u001b[0m \u001b[0my_pred\u001b[0m\u001b[0;34m)\u001b[0m\u001b[0;34m\u001b[0m\u001b[0;34m\u001b[0m\u001b[0m\n\u001b[1;32m   1303\u001b[0m     \u001b[0;32mif\u001b[0m \u001b[0maverage\u001b[0m \u001b[0;34m==\u001b[0m \u001b[0;34m'binary'\u001b[0m\u001b[0;34m:\u001b[0m\u001b[0;34m\u001b[0m\u001b[0;34m\u001b[0m\u001b[0m\n",
            "\u001b[0;32m/usr/local/lib/python3.6/dist-packages/sklearn/metrics/_classification.py\u001b[0m in \u001b[0;36m_check_targets\u001b[0;34m(y_true, y_pred)\u001b[0m\n\u001b[1;32m     78\u001b[0m     \u001b[0my_pred\u001b[0m \u001b[0;34m:\u001b[0m \u001b[0marray\u001b[0m \u001b[0;32mor\u001b[0m \u001b[0mindicator\u001b[0m \u001b[0mmatrix\u001b[0m\u001b[0;34m\u001b[0m\u001b[0;34m\u001b[0m\u001b[0m\n\u001b[1;32m     79\u001b[0m     \"\"\"\n\u001b[0;32m---> 80\u001b[0;31m     \u001b[0mcheck_consistent_length\u001b[0m\u001b[0;34m(\u001b[0m\u001b[0my_true\u001b[0m\u001b[0;34m,\u001b[0m \u001b[0my_pred\u001b[0m\u001b[0;34m)\u001b[0m\u001b[0;34m\u001b[0m\u001b[0;34m\u001b[0m\u001b[0m\n\u001b[0m\u001b[1;32m     81\u001b[0m     \u001b[0mtype_true\u001b[0m \u001b[0;34m=\u001b[0m \u001b[0mtype_of_target\u001b[0m\u001b[0;34m(\u001b[0m\u001b[0my_true\u001b[0m\u001b[0;34m)\u001b[0m\u001b[0;34m\u001b[0m\u001b[0;34m\u001b[0m\u001b[0m\n\u001b[1;32m     82\u001b[0m     \u001b[0mtype_pred\u001b[0m \u001b[0;34m=\u001b[0m \u001b[0mtype_of_target\u001b[0m\u001b[0;34m(\u001b[0m\u001b[0my_pred\u001b[0m\u001b[0;34m)\u001b[0m\u001b[0;34m\u001b[0m\u001b[0;34m\u001b[0m\u001b[0m\n",
            "\u001b[0;32m/usr/local/lib/python3.6/dist-packages/sklearn/utils/validation.py\u001b[0m in \u001b[0;36mcheck_consistent_length\u001b[0;34m(*arrays)\u001b[0m\n\u001b[1;32m    210\u001b[0m     \u001b[0;32mif\u001b[0m \u001b[0mlen\u001b[0m\u001b[0;34m(\u001b[0m\u001b[0muniques\u001b[0m\u001b[0;34m)\u001b[0m \u001b[0;34m>\u001b[0m \u001b[0;36m1\u001b[0m\u001b[0;34m:\u001b[0m\u001b[0;34m\u001b[0m\u001b[0;34m\u001b[0m\u001b[0m\n\u001b[1;32m    211\u001b[0m         raise ValueError(\"Found input variables with inconsistent numbers of\"\n\u001b[0;32m--> 212\u001b[0;31m                          \" samples: %r\" % [int(l) for l in lengths])\n\u001b[0m\u001b[1;32m    213\u001b[0m \u001b[0;34m\u001b[0m\u001b[0m\n\u001b[1;32m    214\u001b[0m \u001b[0;34m\u001b[0m\u001b[0m\n",
            "\u001b[0;31mValueError\u001b[0m: Found input variables with inconsistent numbers of samples: [432, 185]"
          ]
        }
      ]
    },
    {
      "cell_type": "code",
      "metadata": {
        "id": "emBPRtCg-_Xb",
        "colab_type": "code",
        "colab": {}
      },
      "source": [
        ""
      ],
      "execution_count": 0,
      "outputs": []
    }
  ]
}